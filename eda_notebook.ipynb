{
 "cells": [
  {
   "cell_type": "markdown",
   "metadata": {},
   "source": [
    "# Fun facts about Vacouver trees distributions\n",
    "\n"
   ]
  },
  {
   "cell_type": "markdown",
   "metadata": {},
   "source": [
    "## Foreword\n",
    "\n",
    "This notebook will be showing exploratory data analysis for the subset of the Vancouver Street Trees dataset located here. "
   ]
  },
  {
   "cell_type": "markdown",
   "metadata": {},
   "source": [
    "## Introduction"
   ]
  },
  {
   "cell_type": "markdown",
   "metadata": {},
   "source": [
    "### Questions of interests"
   ]
  },
  {
   "cell_type": "markdown",
   "metadata": {},
   "source": [
    "\n",
    "* 1.How are trees distributions over the years through different neighbourhoods in Vancouver?  \n",
    "* 2.How do trees differ among street sides in Vancouver?\n",
    "* 3.Which neighbourhood is surrounded with the most big and tall trees in Vancouver? \n",
    "* 4.Which range of tree size is most popular in Vancouver?"
   ]
  },
  {
   "cell_type": "code",
   "execution_count": 1,
   "metadata": {},
   "outputs": [
    {
     "data": {
      "text/plain": [
       "DataTransformerRegistry.enable('data_server')"
      ]
     },
     "execution_count": 1,
     "metadata": {},
     "output_type": "execute_result"
    }
   ],
   "source": [
    "# Import libraries needed for this assignment\n",
    "\n",
    "import altair as alt\n",
    "import pandas as pd\n",
    "import os\n",
    "\n",
    "alt.data_transformers.enable(\"data_server\")"
   ]
  },
  {
   "cell_type": "markdown",
   "metadata": {},
   "source": [
    "Let's import the subset of the Vancouver Street Trees data. Since this is a new dataset,let's take a good first step to get familiar with it by glancing at the values in the dataframe. "
   ]
  },
  {
   "cell_type": "code",
   "execution_count": 2,
   "metadata": {},
   "outputs": [
    {
     "data": {
      "text/html": [
       "<div>\n",
       "<style scoped>\n",
       "    .dataframe tbody tr th:only-of-type {\n",
       "        vertical-align: middle;\n",
       "    }\n",
       "\n",
       "    .dataframe tbody tr th {\n",
       "        vertical-align: top;\n",
       "    }\n",
       "\n",
       "    .dataframe thead th {\n",
       "        text-align: right;\n",
       "    }\n",
       "</style>\n",
       "<table border=\"1\" class=\"dataframe\">\n",
       "  <thead>\n",
       "    <tr style=\"text-align: right;\">\n",
       "      <th></th>\n",
       "      <th>Unnamed: 0</th>\n",
       "      <th>std_street</th>\n",
       "      <th>on_street</th>\n",
       "      <th>species_name</th>\n",
       "      <th>neighbourhood_name</th>\n",
       "      <th>date_planted</th>\n",
       "      <th>diameter</th>\n",
       "      <th>street_side_name</th>\n",
       "      <th>genus_name</th>\n",
       "      <th>assigned</th>\n",
       "      <th>...</th>\n",
       "      <th>plant_area</th>\n",
       "      <th>curb</th>\n",
       "      <th>tree_id</th>\n",
       "      <th>common_name</th>\n",
       "      <th>height_range_id</th>\n",
       "      <th>on_street_block</th>\n",
       "      <th>cultivar_name</th>\n",
       "      <th>root_barrier</th>\n",
       "      <th>latitude</th>\n",
       "      <th>longitude</th>\n",
       "    </tr>\n",
       "  </thead>\n",
       "  <tbody>\n",
       "    <tr>\n",
       "      <th>0</th>\n",
       "      <td>10747</td>\n",
       "      <td>W 20TH AV</td>\n",
       "      <td>W 20TH AV</td>\n",
       "      <td>PLATANOIDES</td>\n",
       "      <td>Riley Park</td>\n",
       "      <td>2000-02-23</td>\n",
       "      <td>28.5</td>\n",
       "      <td>EVEN</td>\n",
       "      <td>ACER</td>\n",
       "      <td>N</td>\n",
       "      <td>...</td>\n",
       "      <td>15</td>\n",
       "      <td>Y</td>\n",
       "      <td>21421</td>\n",
       "      <td>NORWAY MAPLE</td>\n",
       "      <td>4</td>\n",
       "      <td>0</td>\n",
       "      <td>NaN</td>\n",
       "      <td>N</td>\n",
       "      <td>49.252711</td>\n",
       "      <td>-123.106323</td>\n",
       "    </tr>\n",
       "    <tr>\n",
       "      <th>1</th>\n",
       "      <td>12573</td>\n",
       "      <td>W 18TH AV</td>\n",
       "      <td>W 18TH AV</td>\n",
       "      <td>CALLERYANA</td>\n",
       "      <td>Arbutus-Ridge</td>\n",
       "      <td>1992-02-04</td>\n",
       "      <td>6.0</td>\n",
       "      <td>ODD</td>\n",
       "      <td>PYRUS</td>\n",
       "      <td>N</td>\n",
       "      <td>...</td>\n",
       "      <td>7</td>\n",
       "      <td>Y</td>\n",
       "      <td>129645</td>\n",
       "      <td>CHANTICLEER PEAR</td>\n",
       "      <td>2</td>\n",
       "      <td>2300</td>\n",
       "      <td>CHANTICLEER</td>\n",
       "      <td>N</td>\n",
       "      <td>49.256350</td>\n",
       "      <td>-123.158709</td>\n",
       "    </tr>\n",
       "    <tr>\n",
       "      <th>2</th>\n",
       "      <td>29676</td>\n",
       "      <td>ROSS ST</td>\n",
       "      <td>ROSS ST</td>\n",
       "      <td>NIGRA</td>\n",
       "      <td>Sunset</td>\n",
       "      <td>NaN</td>\n",
       "      <td>12.0</td>\n",
       "      <td>ODD</td>\n",
       "      <td>PINUS</td>\n",
       "      <td>N</td>\n",
       "      <td>...</td>\n",
       "      <td>7</td>\n",
       "      <td>Y</td>\n",
       "      <td>154675</td>\n",
       "      <td>AUSTRIAN PINE</td>\n",
       "      <td>4</td>\n",
       "      <td>7800</td>\n",
       "      <td>NaN</td>\n",
       "      <td>N</td>\n",
       "      <td>49.213486</td>\n",
       "      <td>-123.083254</td>\n",
       "    </tr>\n",
       "    <tr>\n",
       "      <th>3</th>\n",
       "      <td>8856</td>\n",
       "      <td>DOMAN ST</td>\n",
       "      <td>DOMAN ST</td>\n",
       "      <td>AMERICANA</td>\n",
       "      <td>Killarney</td>\n",
       "      <td>1999-11-12</td>\n",
       "      <td>11.0</td>\n",
       "      <td>EVEN</td>\n",
       "      <td>FRAXINUS</td>\n",
       "      <td>N</td>\n",
       "      <td>...</td>\n",
       "      <td>7</td>\n",
       "      <td>Y</td>\n",
       "      <td>180803</td>\n",
       "      <td>AUTUMN APPLAUSE ASH</td>\n",
       "      <td>4</td>\n",
       "      <td>6900</td>\n",
       "      <td>AUTUMN APPLAUSE</td>\n",
       "      <td>N</td>\n",
       "      <td>49.220839</td>\n",
       "      <td>-123.036721</td>\n",
       "    </tr>\n",
       "    <tr>\n",
       "      <th>4</th>\n",
       "      <td>21098</td>\n",
       "      <td>EAST BOULEVARD</td>\n",
       "      <td>EAST BOULEVARD</td>\n",
       "      <td>HIPPOCASTANUM</td>\n",
       "      <td>Shaughnessy</td>\n",
       "      <td>NaN</td>\n",
       "      <td>15.5</td>\n",
       "      <td>ODD</td>\n",
       "      <td>AESCULUS</td>\n",
       "      <td>Y</td>\n",
       "      <td>...</td>\n",
       "      <td>N</td>\n",
       "      <td>Y</td>\n",
       "      <td>74364</td>\n",
       "      <td>COMMON HORSECHESTNUT</td>\n",
       "      <td>4</td>\n",
       "      <td>5200</td>\n",
       "      <td>NaN</td>\n",
       "      <td>N</td>\n",
       "      <td>49.238514</td>\n",
       "      <td>-123.154958</td>\n",
       "    </tr>\n",
       "  </tbody>\n",
       "</table>\n",
       "<p>5 rows × 21 columns</p>\n",
       "</div>"
      ],
      "text/plain": [
       "   Unnamed: 0      std_street       on_street   species_name  \\\n",
       "0       10747       W 20TH AV       W 20TH AV    PLATANOIDES   \n",
       "1       12573       W 18TH AV       W 18TH AV     CALLERYANA   \n",
       "2       29676         ROSS ST         ROSS ST          NIGRA   \n",
       "3        8856        DOMAN ST        DOMAN ST      AMERICANA   \n",
       "4       21098  EAST BOULEVARD  EAST BOULEVARD  HIPPOCASTANUM   \n",
       "\n",
       "  neighbourhood_name date_planted  diameter street_side_name genus_name  \\\n",
       "0         Riley Park   2000-02-23      28.5             EVEN       ACER   \n",
       "1      Arbutus-Ridge   1992-02-04       6.0              ODD      PYRUS   \n",
       "2             Sunset          NaN      12.0              ODD      PINUS   \n",
       "3          Killarney   1999-11-12      11.0             EVEN   FRAXINUS   \n",
       "4        Shaughnessy          NaN      15.5              ODD   AESCULUS   \n",
       "\n",
       "  assigned  ...  plant_area curb tree_id           common_name  \\\n",
       "0        N  ...          15    Y   21421          NORWAY MAPLE   \n",
       "1        N  ...           7    Y  129645      CHANTICLEER PEAR   \n",
       "2        N  ...           7    Y  154675         AUSTRIAN PINE   \n",
       "3        N  ...           7    Y  180803   AUTUMN APPLAUSE ASH   \n",
       "4        Y  ...           N    Y   74364  COMMON HORSECHESTNUT   \n",
       "\n",
       "  height_range_id  on_street_block    cultivar_name root_barrier   latitude  \\\n",
       "0               4                0              NaN            N  49.252711   \n",
       "1               2             2300      CHANTICLEER            N  49.256350   \n",
       "2               4             7800              NaN            N  49.213486   \n",
       "3               4             6900  AUTUMN APPLAUSE            N  49.220839   \n",
       "4               4             5200              NaN            N  49.238514   \n",
       "\n",
       "    longitude  \n",
       "0 -123.106323  \n",
       "1 -123.158709  \n",
       "2 -123.083254  \n",
       "3 -123.036721  \n",
       "4 -123.154958  \n",
       "\n",
       "[5 rows x 21 columns]"
      ]
     },
     "execution_count": 2,
     "metadata": {},
     "output_type": "execute_result"
    }
   ],
   "source": [
    "trees_df = pd.read_csv('small_unique_vancouver.csv')\n",
    "trees_df.head()"
   ]
  },
  {
   "cell_type": "markdown",
   "metadata": {},
   "source": [
    "Next, let's check the type of data in each column and how many missing values there are."
   ]
  },
  {
   "cell_type": "code",
   "execution_count": 3,
   "metadata": {},
   "outputs": [
    {
     "name": "stdout",
     "output_type": "stream",
     "text": [
      "<class 'pandas.core.frame.DataFrame'>\n",
      "RangeIndex: 5000 entries, 0 to 4999\n",
      "Data columns (total 21 columns):\n",
      " #   Column              Non-Null Count  Dtype  \n",
      "---  ------              --------------  -----  \n",
      " 0   Unnamed: 0          5000 non-null   int64  \n",
      " 1   std_street          5000 non-null   object \n",
      " 2   on_street           5000 non-null   object \n",
      " 3   species_name        5000 non-null   object \n",
      " 4   neighbourhood_name  5000 non-null   object \n",
      " 5   date_planted        2363 non-null   object \n",
      " 6   diameter            5000 non-null   float64\n",
      " 7   street_side_name    5000 non-null   object \n",
      " 8   genus_name          5000 non-null   object \n",
      " 9   assigned            5000 non-null   object \n",
      " 10  civic_number        5000 non-null   int64  \n",
      " 11  plant_area          4950 non-null   object \n",
      " 12  curb                5000 non-null   object \n",
      " 13  tree_id             5000 non-null   int64  \n",
      " 14  common_name         5000 non-null   object \n",
      " 15  height_range_id     5000 non-null   int64  \n",
      " 16  on_street_block     5000 non-null   int64  \n",
      " 17  cultivar_name       2658 non-null   object \n",
      " 18  root_barrier        5000 non-null   object \n",
      " 19  latitude            5000 non-null   float64\n",
      " 20  longitude           5000 non-null   float64\n",
      "dtypes: float64(3), int64(5), object(13)\n",
      "memory usage: 820.4+ KB\n"
     ]
    }
   ],
   "source": [
    "trees_df.info()"
   ]
  },
  {
   "cell_type": "markdown",
   "metadata": {},
   "source": [
    "From the above infomation,the datatype of date_planted is object, we need to parse dates as numbers. We can specify parse_dates=['date_planted'] to read_csv again.\n"
   ]
  },
  {
   "cell_type": "markdown",
   "metadata": {},
   "source": [
    "Also, it looks like there are some NaNs in three of the columns, and the date_planted and cultivar_name seem to have the most: about half rows are missing a value."
   ]
  },
  {
   "cell_type": "markdown",
   "metadata": {},
   "source": [
    "Now we are parsing the dates and then we'll reprint the info of the dataset."
   ]
  },
  {
   "cell_type": "code",
   "execution_count": 4,
   "metadata": {},
   "outputs": [
    {
     "name": "stdout",
     "output_type": "stream",
     "text": [
      "<class 'pandas.core.frame.DataFrame'>\n",
      "RangeIndex: 5000 entries, 0 to 4999\n",
      "Data columns (total 21 columns):\n",
      " #   Column              Non-Null Count  Dtype         \n",
      "---  ------              --------------  -----         \n",
      " 0   Unnamed: 0          5000 non-null   int64         \n",
      " 1   std_street          5000 non-null   object        \n",
      " 2   on_street           5000 non-null   object        \n",
      " 3   species_name        5000 non-null   object        \n",
      " 4   neighbourhood_name  5000 non-null   object        \n",
      " 5   date_planted        2363 non-null   datetime64[ns]\n",
      " 6   diameter            5000 non-null   float64       \n",
      " 7   street_side_name    5000 non-null   object        \n",
      " 8   genus_name          5000 non-null   object        \n",
      " 9   assigned            5000 non-null   object        \n",
      " 10  civic_number        5000 non-null   int64         \n",
      " 11  plant_area          4950 non-null   object        \n",
      " 12  curb                5000 non-null   object        \n",
      " 13  tree_id             5000 non-null   int64         \n",
      " 14  common_name         5000 non-null   object        \n",
      " 15  height_range_id     5000 non-null   int64         \n",
      " 16  on_street_block     5000 non-null   int64         \n",
      " 17  cultivar_name       2658 non-null   object        \n",
      " 18  root_barrier        5000 non-null   object        \n",
      " 19  latitude            5000 non-null   float64       \n",
      " 20  longitude           5000 non-null   float64       \n",
      "dtypes: datetime64[ns](1), float64(3), int64(5), object(12)\n",
      "memory usage: 820.4+ KB\n"
     ]
    }
   ],
   "source": [
    "\n",
    "trees_df = pd.read_csv('small_unique_vancouver.csv',parse_dates=['date_planted'])\n",
    "trees_df.info()"
   ]
  },
  {
   "cell_type": "markdown",
   "metadata": {},
   "source": [
    "Visualizing missing values helps us identify potential issues with the data."
   ]
  },
  {
   "cell_type": "code",
   "execution_count": 5,
   "metadata": {},
   "outputs": [
    {
     "data": {
      "text/html": [
       "<div>\n",
       "<style scoped>\n",
       "    .dataframe tbody tr th:only-of-type {\n",
       "        vertical-align: middle;\n",
       "    }\n",
       "\n",
       "    .dataframe tbody tr th {\n",
       "        vertical-align: top;\n",
       "    }\n",
       "\n",
       "    .dataframe thead th {\n",
       "        text-align: right;\n",
       "    }\n",
       "</style>\n",
       "<table border=\"1\" class=\"dataframe\">\n",
       "  <thead>\n",
       "    <tr style=\"text-align: right;\">\n",
       "      <th></th>\n",
       "      <th>index</th>\n",
       "      <th>column</th>\n",
       "      <th>NaN</th>\n",
       "    </tr>\n",
       "  </thead>\n",
       "  <tbody>\n",
       "    <tr>\n",
       "      <th>0</th>\n",
       "      <td>0</td>\n",
       "      <td>Unnamed: 0</td>\n",
       "      <td>False</td>\n",
       "    </tr>\n",
       "    <tr>\n",
       "      <th>1</th>\n",
       "      <td>1</td>\n",
       "      <td>Unnamed: 0</td>\n",
       "      <td>False</td>\n",
       "    </tr>\n",
       "    <tr>\n",
       "      <th>2</th>\n",
       "      <td>2</td>\n",
       "      <td>Unnamed: 0</td>\n",
       "      <td>False</td>\n",
       "    </tr>\n",
       "    <tr>\n",
       "      <th>3</th>\n",
       "      <td>3</td>\n",
       "      <td>Unnamed: 0</td>\n",
       "      <td>False</td>\n",
       "    </tr>\n",
       "    <tr>\n",
       "      <th>4</th>\n",
       "      <td>4</td>\n",
       "      <td>Unnamed: 0</td>\n",
       "      <td>False</td>\n",
       "    </tr>\n",
       "    <tr>\n",
       "      <th>...</th>\n",
       "      <td>...</td>\n",
       "      <td>...</td>\n",
       "      <td>...</td>\n",
       "    </tr>\n",
       "    <tr>\n",
       "      <th>104995</th>\n",
       "      <td>4995</td>\n",
       "      <td>longitude</td>\n",
       "      <td>False</td>\n",
       "    </tr>\n",
       "    <tr>\n",
       "      <th>104996</th>\n",
       "      <td>4996</td>\n",
       "      <td>longitude</td>\n",
       "      <td>False</td>\n",
       "    </tr>\n",
       "    <tr>\n",
       "      <th>104997</th>\n",
       "      <td>4997</td>\n",
       "      <td>longitude</td>\n",
       "      <td>False</td>\n",
       "    </tr>\n",
       "    <tr>\n",
       "      <th>104998</th>\n",
       "      <td>4998</td>\n",
       "      <td>longitude</td>\n",
       "      <td>False</td>\n",
       "    </tr>\n",
       "    <tr>\n",
       "      <th>104999</th>\n",
       "      <td>4999</td>\n",
       "      <td>longitude</td>\n",
       "      <td>False</td>\n",
       "    </tr>\n",
       "  </tbody>\n",
       "</table>\n",
       "<p>105000 rows × 3 columns</p>\n",
       "</div>"
      ],
      "text/plain": [
       "        index      column    NaN\n",
       "0           0  Unnamed: 0  False\n",
       "1           1  Unnamed: 0  False\n",
       "2           2  Unnamed: 0  False\n",
       "3           3  Unnamed: 0  False\n",
       "4           4  Unnamed: 0  False\n",
       "...       ...         ...    ...\n",
       "104995   4995   longitude  False\n",
       "104996   4996   longitude  False\n",
       "104997   4997   longitude  False\n",
       "104998   4998   longitude  False\n",
       "104999   4999   longitude  False\n",
       "\n",
       "[105000 rows x 3 columns]"
      ]
     },
     "execution_count": 5,
     "metadata": {},
     "output_type": "execute_result"
    }
   ],
   "source": [
    "alt.data_transformers.disable_max_rows();\n",
    "trees_nans = trees_df.isna().reset_index().melt(id_vars='index', var_name='column', value_name='NaN')\n",
    "trees_nans\n",
    "\n"
   ]
  },
  {
   "cell_type": "code",
   "execution_count": 6,
   "metadata": {},
   "outputs": [
    {
     "data": {
      "text/html": [
       "\n",
       "<div id=\"altair-viz-4f279f1b60a4475e9157018d7190d903\"></div>\n",
       "<script type=\"text/javascript\">\n",
       "  (function(spec, embedOpt){\n",
       "    let outputDiv = document.currentScript.previousElementSibling;\n",
       "    if (outputDiv.id !== \"altair-viz-4f279f1b60a4475e9157018d7190d903\") {\n",
       "      outputDiv = document.getElementById(\"altair-viz-4f279f1b60a4475e9157018d7190d903\");\n",
       "    }\n",
       "    const paths = {\n",
       "      \"vega\": \"https://cdn.jsdelivr.net/npm//vega@5?noext\",\n",
       "      \"vega-lib\": \"https://cdn.jsdelivr.net/npm//vega-lib?noext\",\n",
       "      \"vega-lite\": \"https://cdn.jsdelivr.net/npm//vega-lite@4.8.1?noext\",\n",
       "      \"vega-embed\": \"https://cdn.jsdelivr.net/npm//vega-embed@6?noext\",\n",
       "    };\n",
       "\n",
       "    function loadScript(lib) {\n",
       "      return new Promise(function(resolve, reject) {\n",
       "        var s = document.createElement('script');\n",
       "        s.src = paths[lib];\n",
       "        s.async = true;\n",
       "        s.onload = () => resolve(paths[lib]);\n",
       "        s.onerror = () => reject(`Error loading script: ${paths[lib]}`);\n",
       "        document.getElementsByTagName(\"head\")[0].appendChild(s);\n",
       "      });\n",
       "    }\n",
       "\n",
       "    function showError(err) {\n",
       "      outputDiv.innerHTML = `<div class=\"error\" style=\"color:red;\">${err}</div>`;\n",
       "      throw err;\n",
       "    }\n",
       "\n",
       "    function displayChart(vegaEmbed) {\n",
       "      vegaEmbed(outputDiv, spec, embedOpt)\n",
       "        .catch(err => showError(`Javascript Error: ${err.message}<br>This usually means there's a typo in your chart specification. See the javascript console for the full traceback.`));\n",
       "    }\n",
       "\n",
       "    if(typeof define === \"function\" && define.amd) {\n",
       "      requirejs.config({paths});\n",
       "      require([\"vega-embed\"], displayChart, err => showError(`Error loading script: ${err.message}`));\n",
       "    } else if (typeof vegaEmbed === \"function\") {\n",
       "      displayChart(vegaEmbed);\n",
       "    } else {\n",
       "      loadScript(\"vega\")\n",
       "        .then(() => loadScript(\"vega-lite\"))\n",
       "        .then(() => loadScript(\"vega-embed\"))\n",
       "        .catch(showError)\n",
       "        .then(() => displayChart(vegaEmbed));\n",
       "    }\n",
       "  })({\"config\": {\"view\": {\"continuousWidth\": 400, \"continuousHeight\": 300}}, \"data\": {\"url\": \"/jupyter/user/775625/proxy/19770/42b9724f485cf2acc7e141a1aeba01b2.json\"}, \"mark\": {\"type\": \"rect\", \"height\": 17}, \"encoding\": {\"color\": {\"type\": \"nominal\", \"field\": \"NaN\"}, \"stroke\": {\"type\": \"nominal\", \"field\": \"NaN\"}, \"x\": {\"type\": \"ordinal\", \"field\": \"index\"}, \"y\": {\"type\": \"nominal\", \"field\": \"column\"}}, \"width\": 900, \"$schema\": \"https://vega.github.io/schema/vega-lite/v4.8.1.json\"}, {\"mode\": \"vega-lite\"});\n",
       "</script>"
      ],
      "text/plain": [
       "alt.Chart(...)"
      ]
     },
     "execution_count": 6,
     "metadata": {},
     "output_type": "execute_result"
    }
   ],
   "source": [
    "alt.Chart(trees_nans).mark_rect(height=17).encode(\n",
    "    x='index:O',\n",
    "    y='column',\n",
    "    color='NaN',\n",
    "    stroke='NaN').properties(width=900)"
   ]
  },
  {
   "cell_type": "markdown",
   "metadata": {},
   "source": [
    "By visualizing the missing values for each column next to each other, we can quickly see if there are similar patterns between columns.From the above plot we find that the missing values from cultivar_name and date_planted are not exactly the same rows,although they both have about half rows missing a value.The column plant_area has only 1% rows missing a value."
   ]
  },
  {
   "cell_type": "markdown",
   "metadata": {},
   "source": [
    "Since cultivar_name and plant_area are categorical columns showing trees description information,we are not dropping these NaN values if we are not interested in them.For the column date_planted,we can drop the NaN values when we focus on the statistics related to the time. Considering almost half of rows missing a value in date_planted, we might keep the NaN values rather than drop them when we deal with time unrelated statistics."
   ]
  },
  {
   "cell_type": "markdown",
   "metadata": {},
   "source": []
  },
  {
   "cell_type": "markdown",
   "metadata": {},
   "source": [
    "Now let’s print out the summary statistics for the numerical columns."
   ]
  },
  {
   "cell_type": "code",
   "execution_count": 7,
   "metadata": {},
   "outputs": [
    {
     "data": {
      "text/html": [
       "<div>\n",
       "<style scoped>\n",
       "    .dataframe tbody tr th:only-of-type {\n",
       "        vertical-align: middle;\n",
       "    }\n",
       "\n",
       "    .dataframe tbody tr th {\n",
       "        vertical-align: top;\n",
       "    }\n",
       "\n",
       "    .dataframe thead th {\n",
       "        text-align: right;\n",
       "    }\n",
       "</style>\n",
       "<table border=\"1\" class=\"dataframe\">\n",
       "  <thead>\n",
       "    <tr style=\"text-align: right;\">\n",
       "      <th></th>\n",
       "      <th>Unnamed: 0</th>\n",
       "      <th>diameter</th>\n",
       "      <th>civic_number</th>\n",
       "      <th>tree_id</th>\n",
       "      <th>height_range_id</th>\n",
       "      <th>on_street_block</th>\n",
       "      <th>latitude</th>\n",
       "      <th>longitude</th>\n",
       "    </tr>\n",
       "  </thead>\n",
       "  <tbody>\n",
       "    <tr>\n",
       "      <th>count</th>\n",
       "      <td>5000.000000</td>\n",
       "      <td>5000.000000</td>\n",
       "      <td>5000.000000</td>\n",
       "      <td>5000.000000</td>\n",
       "      <td>5000.00000</td>\n",
       "      <td>5000.000000</td>\n",
       "      <td>5000.000000</td>\n",
       "      <td>5000.000000</td>\n",
       "    </tr>\n",
       "    <tr>\n",
       "      <th>mean</th>\n",
       "      <td>14861.920400</td>\n",
       "      <td>12.340888</td>\n",
       "      <td>2975.707600</td>\n",
       "      <td>128682.584600</td>\n",
       "      <td>2.73440</td>\n",
       "      <td>2960.227000</td>\n",
       "      <td>49.247349</td>\n",
       "      <td>-123.107128</td>\n",
       "    </tr>\n",
       "    <tr>\n",
       "      <th>std</th>\n",
       "      <td>8680.023278</td>\n",
       "      <td>9.266600</td>\n",
       "      <td>2078.580429</td>\n",
       "      <td>75412.260406</td>\n",
       "      <td>1.56957</td>\n",
       "      <td>2086.861052</td>\n",
       "      <td>0.021251</td>\n",
       "      <td>0.049137</td>\n",
       "    </tr>\n",
       "    <tr>\n",
       "      <th>min</th>\n",
       "      <td>2.000000</td>\n",
       "      <td>0.000000</td>\n",
       "      <td>2.000000</td>\n",
       "      <td>36.000000</td>\n",
       "      <td>0.00000</td>\n",
       "      <td>0.000000</td>\n",
       "      <td>49.202783</td>\n",
       "      <td>-123.220560</td>\n",
       "    </tr>\n",
       "    <tr>\n",
       "      <th>25%</th>\n",
       "      <td>7192.750000</td>\n",
       "      <td>4.000000</td>\n",
       "      <td>1300.500000</td>\n",
       "      <td>61321.500000</td>\n",
       "      <td>2.00000</td>\n",
       "      <td>1300.000000</td>\n",
       "      <td>49.230152</td>\n",
       "      <td>-123.144178</td>\n",
       "    </tr>\n",
       "    <tr>\n",
       "      <th>50%</th>\n",
       "      <td>14870.000000</td>\n",
       "      <td>10.000000</td>\n",
       "      <td>2639.000000</td>\n",
       "      <td>130130.500000</td>\n",
       "      <td>2.00000</td>\n",
       "      <td>2600.000000</td>\n",
       "      <td>49.247981</td>\n",
       "      <td>-123.105861</td>\n",
       "    </tr>\n",
       "    <tr>\n",
       "      <th>75%</th>\n",
       "      <td>22366.750000</td>\n",
       "      <td>18.000000</td>\n",
       "      <td>4123.000000</td>\n",
       "      <td>191332.000000</td>\n",
       "      <td>4.00000</td>\n",
       "      <td>4100.000000</td>\n",
       "      <td>49.263275</td>\n",
       "      <td>-123.063484</td>\n",
       "    </tr>\n",
       "    <tr>\n",
       "      <th>max</th>\n",
       "      <td>29992.000000</td>\n",
       "      <td>71.000000</td>\n",
       "      <td>9113.000000</td>\n",
       "      <td>270750.000000</td>\n",
       "      <td>9.00000</td>\n",
       "      <td>9100.000000</td>\n",
       "      <td>49.293930</td>\n",
       "      <td>-123.023311</td>\n",
       "    </tr>\n",
       "  </tbody>\n",
       "</table>\n",
       "</div>"
      ],
      "text/plain": [
       "         Unnamed: 0     diameter  civic_number        tree_id  \\\n",
       "count   5000.000000  5000.000000   5000.000000    5000.000000   \n",
       "mean   14861.920400    12.340888   2975.707600  128682.584600   \n",
       "std     8680.023278     9.266600   2078.580429   75412.260406   \n",
       "min        2.000000     0.000000      2.000000      36.000000   \n",
       "25%     7192.750000     4.000000   1300.500000   61321.500000   \n",
       "50%    14870.000000    10.000000   2639.000000  130130.500000   \n",
       "75%    22366.750000    18.000000   4123.000000  191332.000000   \n",
       "max    29992.000000    71.000000   9113.000000  270750.000000   \n",
       "\n",
       "       height_range_id  on_street_block     latitude    longitude  \n",
       "count       5000.00000      5000.000000  5000.000000  5000.000000  \n",
       "mean           2.73440      2960.227000    49.247349  -123.107128  \n",
       "std            1.56957      2086.861052     0.021251     0.049137  \n",
       "min            0.00000         0.000000    49.202783  -123.220560  \n",
       "25%            2.00000      1300.000000    49.230152  -123.144178  \n",
       "50%            2.00000      2600.000000    49.247981  -123.105861  \n",
       "75%            4.00000      4100.000000    49.263275  -123.063484  \n",
       "max            9.00000      9100.000000    49.293930  -123.023311  "
      ]
     },
     "execution_count": 7,
     "metadata": {},
     "output_type": "execute_result"
    }
   ],
   "source": [
    "trees_df.describe()"
   ]
  },
  {
   "cell_type": "markdown",
   "metadata": {},
   "source": [
    "Visualizing the distributions of all numerical columns helps us understand the data.\n"
   ]
  },
  {
   "cell_type": "markdown",
   "metadata": {},
   "source": [
    "The first column unnamed:0 seems like the id for each row in the original dataset,we have not much interest in it when discovering the numerical columns relationships through visualization. We are going to ignore this column in the following numerical columns exploring."
   ]
  },
  {
   "cell_type": "code",
   "execution_count": 8,
   "metadata": {},
   "outputs": [
    {
     "data": {
      "text/html": [
       "\n",
       "<div id=\"altair-viz-d0775eaf0d4d4480bde10f54b26380e7\"></div>\n",
       "<script type=\"text/javascript\">\n",
       "  (function(spec, embedOpt){\n",
       "    let outputDiv = document.currentScript.previousElementSibling;\n",
       "    if (outputDiv.id !== \"altair-viz-d0775eaf0d4d4480bde10f54b26380e7\") {\n",
       "      outputDiv = document.getElementById(\"altair-viz-d0775eaf0d4d4480bde10f54b26380e7\");\n",
       "    }\n",
       "    const paths = {\n",
       "      \"vega\": \"https://cdn.jsdelivr.net/npm//vega@5?noext\",\n",
       "      \"vega-lib\": \"https://cdn.jsdelivr.net/npm//vega-lib?noext\",\n",
       "      \"vega-lite\": \"https://cdn.jsdelivr.net/npm//vega-lite@4.8.1?noext\",\n",
       "      \"vega-embed\": \"https://cdn.jsdelivr.net/npm//vega-embed@6?noext\",\n",
       "    };\n",
       "\n",
       "    function loadScript(lib) {\n",
       "      return new Promise(function(resolve, reject) {\n",
       "        var s = document.createElement('script');\n",
       "        s.src = paths[lib];\n",
       "        s.async = true;\n",
       "        s.onload = () => resolve(paths[lib]);\n",
       "        s.onerror = () => reject(`Error loading script: ${paths[lib]}`);\n",
       "        document.getElementsByTagName(\"head\")[0].appendChild(s);\n",
       "      });\n",
       "    }\n",
       "\n",
       "    function showError(err) {\n",
       "      outputDiv.innerHTML = `<div class=\"error\" style=\"color:red;\">${err}</div>`;\n",
       "      throw err;\n",
       "    }\n",
       "\n",
       "    function displayChart(vegaEmbed) {\n",
       "      vegaEmbed(outputDiv, spec, embedOpt)\n",
       "        .catch(err => showError(`Javascript Error: ${err.message}<br>This usually means there's a typo in your chart specification. See the javascript console for the full traceback.`));\n",
       "    }\n",
       "\n",
       "    if(typeof define === \"function\" && define.amd) {\n",
       "      requirejs.config({paths});\n",
       "      require([\"vega-embed\"], displayChart, err => showError(`Error loading script: ${err.message}`));\n",
       "    } else if (typeof vegaEmbed === \"function\") {\n",
       "      displayChart(vegaEmbed);\n",
       "    } else {\n",
       "      loadScript(\"vega\")\n",
       "        .then(() => loadScript(\"vega-lite\"))\n",
       "        .then(() => loadScript(\"vega-embed\"))\n",
       "        .catch(showError)\n",
       "        .then(() => displayChart(vegaEmbed));\n",
       "    }\n",
       "  })({\"config\": {\"view\": {\"continuousWidth\": 400, \"continuousHeight\": 300}}, \"repeat\": [\"diameter\", \"civic_number\", \"tree_id\", \"height_range_id\", \"on_street_block\", \"latitude\", \"longitude\"], \"spec\": {\"data\": {\"url\": \"/jupyter/user/775625/proxy/19770/26613ee3deeb98ae0726ee9e75f1f129.json\"}, \"mark\": \"bar\", \"encoding\": {\"x\": {\"type\": \"quantitative\", \"bin\": {\"maxbins\": 25}, \"field\": {\"repeat\": \"repeat\"}}, \"y\": {\"type\": \"quantitative\", \"aggregate\": \"count\"}}, \"height\": 150, \"width\": 220}, \"columns\": 3, \"$schema\": \"https://vega.github.io/schema/vega-lite/v4.8.1.json\"}, {\"mode\": \"vega-lite\"});\n",
       "</script>"
      ],
      "text/plain": [
       "alt.RepeatChart(...)"
      ]
     },
     "execution_count": 8,
     "metadata": {},
     "output_type": "execute_result"
    }
   ],
   "source": [
    "# remove the first column (unnamed:0)from numerical columns\n",
    "numerical_columns = trees_df.iloc[:,1:].select_dtypes('number').columns.tolist()\n",
    "#numerical_columns = \n",
    "(alt.Chart(trees_df)\n",
    " .mark_bar().encode(\n",
    "     alt.X(alt.repeat(), type='quantitative', bin=alt.Bin(maxbins=25)),\n",
    "     y='count()')\n",
    " .properties(width=220, height=150)\n",
    " .repeat(numerical_columns,columns=3))"
   ]
  },
  {
   "cell_type": "markdown",
   "metadata": {},
   "source": [
    "This overview tells us that most trees have a diameter of less than 5 in, and height range id between 1 to 2. As trees get bigger and taller,the count numbers are going down.Also, the civic number and street blocks number seem to share the same distribution. "
   ]
  },
  {
   "cell_type": "markdown",
   "metadata": {},
   "source": [
    "Repeating columns of both X and Y lets us effectively explore pairwise relationships between columns."
   ]
  },
  {
   "cell_type": "code",
   "execution_count": 9,
   "metadata": {
    "tags": []
   },
   "outputs": [
    {
     "data": {
      "text/html": [
       "\n",
       "<div id=\"altair-viz-34832de9b02548c9b30749bf290fedbd\"></div>\n",
       "<script type=\"text/javascript\">\n",
       "  (function(spec, embedOpt){\n",
       "    let outputDiv = document.currentScript.previousElementSibling;\n",
       "    if (outputDiv.id !== \"altair-viz-34832de9b02548c9b30749bf290fedbd\") {\n",
       "      outputDiv = document.getElementById(\"altair-viz-34832de9b02548c9b30749bf290fedbd\");\n",
       "    }\n",
       "    const paths = {\n",
       "      \"vega\": \"https://cdn.jsdelivr.net/npm//vega@5?noext\",\n",
       "      \"vega-lib\": \"https://cdn.jsdelivr.net/npm//vega-lib?noext\",\n",
       "      \"vega-lite\": \"https://cdn.jsdelivr.net/npm//vega-lite@4.8.1?noext\",\n",
       "      \"vega-embed\": \"https://cdn.jsdelivr.net/npm//vega-embed@6?noext\",\n",
       "    };\n",
       "\n",
       "    function loadScript(lib) {\n",
       "      return new Promise(function(resolve, reject) {\n",
       "        var s = document.createElement('script');\n",
       "        s.src = paths[lib];\n",
       "        s.async = true;\n",
       "        s.onload = () => resolve(paths[lib]);\n",
       "        s.onerror = () => reject(`Error loading script: ${paths[lib]}`);\n",
       "        document.getElementsByTagName(\"head\")[0].appendChild(s);\n",
       "      });\n",
       "    }\n",
       "\n",
       "    function showError(err) {\n",
       "      outputDiv.innerHTML = `<div class=\"error\" style=\"color:red;\">${err}</div>`;\n",
       "      throw err;\n",
       "    }\n",
       "\n",
       "    function displayChart(vegaEmbed) {\n",
       "      vegaEmbed(outputDiv, spec, embedOpt)\n",
       "        .catch(err => showError(`Javascript Error: ${err.message}<br>This usually means there's a typo in your chart specification. See the javascript console for the full traceback.`));\n",
       "    }\n",
       "\n",
       "    if(typeof define === \"function\" && define.amd) {\n",
       "      requirejs.config({paths});\n",
       "      require([\"vega-embed\"], displayChart, err => showError(`Error loading script: ${err.message}`));\n",
       "    } else if (typeof vegaEmbed === \"function\") {\n",
       "      displayChart(vegaEmbed);\n",
       "    } else {\n",
       "      loadScript(\"vega\")\n",
       "        .then(() => loadScript(\"vega-lite\"))\n",
       "        .then(() => loadScript(\"vega-embed\"))\n",
       "        .catch(showError)\n",
       "        .then(() => displayChart(vegaEmbed));\n",
       "    }\n",
       "  })({\"config\": {\"view\": {\"continuousWidth\": 400, \"continuousHeight\": 300}}, \"repeat\": {\"column\": [\"diameter\", \"civic_number\", \"tree_id\", \"height_range_id\", \"on_street_block\", \"latitude\", \"longitude\"], \"row\": [\"diameter\", \"civic_number\", \"tree_id\", \"height_range_id\", \"on_street_block\", \"latitude\", \"longitude\"]}, \"spec\": {\"data\": {\"url\": \"/jupyter/user/775625/proxy/19770/26613ee3deeb98ae0726ee9e75f1f129.json\"}, \"mark\": {\"type\": \"point\", \"size\": 10}, \"encoding\": {\"x\": {\"type\": \"quantitative\", \"field\": {\"repeat\": \"column\"}}, \"y\": {\"type\": \"quantitative\", \"field\": {\"repeat\": \"row\"}}}, \"height\": 120, \"width\": 80}, \"$schema\": \"https://vega.github.io/schema/vega-lite/v4.8.1.json\"}, {\"mode\": \"vega-lite\"});\n",
       "</script>"
      ],
      "text/plain": [
       "alt.RepeatChart(...)"
      ]
     },
     "execution_count": 9,
     "metadata": {},
     "output_type": "execute_result"
    }
   ],
   "source": [
    "# Scroll right on the plot to see the last column\n",
    "(alt.Chart(trees_df)\n",
    " .mark_point(size=10).encode(\n",
    "     alt.X(alt.repeat('column'), type='quantitative'),\n",
    "     alt.Y(alt.repeat('row'), type='quantitative'))\n",
    " .properties(width=80, height=120)\n",
    " .repeat(column=numerical_columns, row=numerical_columns))"
   ]
  },
  {
   "cell_type": "markdown",
   "metadata": {},
   "source": [
    "Unfortunately, these plots are saturated, so although we can see that there might be some correlative relationships, we should remake this plot as a 2D histogram heatmap."
   ]
  },
  {
   "cell_type": "code",
   "execution_count": 10,
   "metadata": {
    "tags": []
   },
   "outputs": [
    {
     "data": {
      "text/html": [
       "\n",
       "<div id=\"altair-viz-3f435feb84e54fd3b52ac9b033488a92\"></div>\n",
       "<script type=\"text/javascript\">\n",
       "  (function(spec, embedOpt){\n",
       "    let outputDiv = document.currentScript.previousElementSibling;\n",
       "    if (outputDiv.id !== \"altair-viz-3f435feb84e54fd3b52ac9b033488a92\") {\n",
       "      outputDiv = document.getElementById(\"altair-viz-3f435feb84e54fd3b52ac9b033488a92\");\n",
       "    }\n",
       "    const paths = {\n",
       "      \"vega\": \"https://cdn.jsdelivr.net/npm//vega@5?noext\",\n",
       "      \"vega-lib\": \"https://cdn.jsdelivr.net/npm//vega-lib?noext\",\n",
       "      \"vega-lite\": \"https://cdn.jsdelivr.net/npm//vega-lite@4.8.1?noext\",\n",
       "      \"vega-embed\": \"https://cdn.jsdelivr.net/npm//vega-embed@6?noext\",\n",
       "    };\n",
       "\n",
       "    function loadScript(lib) {\n",
       "      return new Promise(function(resolve, reject) {\n",
       "        var s = document.createElement('script');\n",
       "        s.src = paths[lib];\n",
       "        s.async = true;\n",
       "        s.onload = () => resolve(paths[lib]);\n",
       "        s.onerror = () => reject(`Error loading script: ${paths[lib]}`);\n",
       "        document.getElementsByTagName(\"head\")[0].appendChild(s);\n",
       "      });\n",
       "    }\n",
       "\n",
       "    function showError(err) {\n",
       "      outputDiv.innerHTML = `<div class=\"error\" style=\"color:red;\">${err}</div>`;\n",
       "      throw err;\n",
       "    }\n",
       "\n",
       "    function displayChart(vegaEmbed) {\n",
       "      vegaEmbed(outputDiv, spec, embedOpt)\n",
       "        .catch(err => showError(`Javascript Error: ${err.message}<br>This usually means there's a typo in your chart specification. See the javascript console for the full traceback.`));\n",
       "    }\n",
       "\n",
       "    if(typeof define === \"function\" && define.amd) {\n",
       "      requirejs.config({paths});\n",
       "      require([\"vega-embed\"], displayChart, err => showError(`Error loading script: ${err.message}`));\n",
       "    } else if (typeof vegaEmbed === \"function\") {\n",
       "      displayChart(vegaEmbed);\n",
       "    } else {\n",
       "      loadScript(\"vega\")\n",
       "        .then(() => loadScript(\"vega-lite\"))\n",
       "        .then(() => loadScript(\"vega-embed\"))\n",
       "        .catch(showError)\n",
       "        .then(() => displayChart(vegaEmbed));\n",
       "    }\n",
       "  })({\"config\": {\"view\": {\"continuousWidth\": 400, \"continuousHeight\": 300}}, \"repeat\": {\"column\": [\"diameter\", \"civic_number\", \"tree_id\", \"height_range_id\", \"on_street_block\", \"latitude\", \"longitude\"], \"row\": [\"diameter\", \"civic_number\", \"tree_id\", \"height_range_id\", \"on_street_block\", \"latitude\", \"longitude\"]}, \"spec\": {\"data\": {\"url\": \"/jupyter/user/775625/proxy/19770/26613ee3deeb98ae0726ee9e75f1f129.json\"}, \"mark\": \"rect\", \"encoding\": {\"color\": {\"type\": \"quantitative\", \"aggregate\": \"count\", \"title\": null}, \"x\": {\"type\": \"quantitative\", \"bin\": {\"maxbins\": 30}, \"field\": {\"repeat\": \"column\"}}, \"y\": {\"type\": \"quantitative\", \"bin\": {\"maxbins\": 30}, \"field\": {\"repeat\": \"row\"}}}, \"height\": 110, \"width\": 110}, \"resolve\": {\"scale\": {\"color\": \"independent\"}}, \"$schema\": \"https://vega.github.io/schema/vega-lite/v4.8.1.json\"}, {\"mode\": \"vega-lite\"});\n",
       "</script>"
      ],
      "text/plain": [
       "alt.RepeatChart(...)"
      ]
     },
     "execution_count": 10,
     "metadata": {},
     "output_type": "execute_result"
    }
   ],
   "source": [
    "# Scroll right on the plot to see more columns\n",
    "(alt.Chart(trees_df)\n",
    " .mark_rect().encode(\n",
    "     alt.X(alt.repeat('column'), type='quantitative', bin=alt.Bin(maxbins=30)),\n",
    "     alt.Y(alt.repeat('row'), type='quantitative', bin=alt.Bin(maxbins=30)),\n",
    "     alt.Color('count()', title=None))\n",
    " .properties(width=110, height=110)\n",
    " .repeat(column=numerical_columns, row=numerical_columns)).resolve_scale(color='independent')"
   ]
  },
  {
   "cell_type": "markdown",
   "metadata": {},
   "source": [
    "From the above heatmaps, we find that diameter and height might have a positive relationship when diameter is less than 25 inches. Also,we can learn that civic number and block number are related to longitude and latitude and it provides some interesting aspects related to geographic distribution."
   ]
  },
  {
   "cell_type": "markdown",
   "metadata": {},
   "source": [
    "Besides, visualizing the counts of all categorical columns helps us understand the data.Considering some columns have too many values and here we just select a subset of categorical columns to explore."
   ]
  },
  {
   "cell_type": "code",
   "execution_count": 11,
   "metadata": {},
   "outputs": [
    {
     "data": {
      "text/html": [
       "\n",
       "<div id=\"altair-viz-fa143f4070764bb4bc2788c7663a6ac0\"></div>\n",
       "<script type=\"text/javascript\">\n",
       "  (function(spec, embedOpt){\n",
       "    let outputDiv = document.currentScript.previousElementSibling;\n",
       "    if (outputDiv.id !== \"altair-viz-fa143f4070764bb4bc2788c7663a6ac0\") {\n",
       "      outputDiv = document.getElementById(\"altair-viz-fa143f4070764bb4bc2788c7663a6ac0\");\n",
       "    }\n",
       "    const paths = {\n",
       "      \"vega\": \"https://cdn.jsdelivr.net/npm//vega@5?noext\",\n",
       "      \"vega-lib\": \"https://cdn.jsdelivr.net/npm//vega-lib?noext\",\n",
       "      \"vega-lite\": \"https://cdn.jsdelivr.net/npm//vega-lite@4.8.1?noext\",\n",
       "      \"vega-embed\": \"https://cdn.jsdelivr.net/npm//vega-embed@6?noext\",\n",
       "    };\n",
       "\n",
       "    function loadScript(lib) {\n",
       "      return new Promise(function(resolve, reject) {\n",
       "        var s = document.createElement('script');\n",
       "        s.src = paths[lib];\n",
       "        s.async = true;\n",
       "        s.onload = () => resolve(paths[lib]);\n",
       "        s.onerror = () => reject(`Error loading script: ${paths[lib]}`);\n",
       "        document.getElementsByTagName(\"head\")[0].appendChild(s);\n",
       "      });\n",
       "    }\n",
       "\n",
       "    function showError(err) {\n",
       "      outputDiv.innerHTML = `<div class=\"error\" style=\"color:red;\">${err}</div>`;\n",
       "      throw err;\n",
       "    }\n",
       "\n",
       "    function displayChart(vegaEmbed) {\n",
       "      vegaEmbed(outputDiv, spec, embedOpt)\n",
       "        .catch(err => showError(`Javascript Error: ${err.message}<br>This usually means there's a typo in your chart specification. See the javascript console for the full traceback.`));\n",
       "    }\n",
       "\n",
       "    if(typeof define === \"function\" && define.amd) {\n",
       "      requirejs.config({paths});\n",
       "      require([\"vega-embed\"], displayChart, err => showError(`Error loading script: ${err.message}`));\n",
       "    } else if (typeof vegaEmbed === \"function\") {\n",
       "      displayChart(vegaEmbed);\n",
       "    } else {\n",
       "      loadScript(\"vega\")\n",
       "        .then(() => loadScript(\"vega-lite\"))\n",
       "        .then(() => loadScript(\"vega-embed\"))\n",
       "        .catch(showError)\n",
       "        .then(() => displayChart(vegaEmbed));\n",
       "    }\n",
       "  })({\"config\": {\"view\": {\"continuousWidth\": 400, \"continuousHeight\": 300}}, \"repeat\": [\"street_side_name\", \"curb\", \"neighbourhood_name\", \"root_barrier\"], \"spec\": {\"data\": {\"url\": \"/jupyter/user/775625/proxy/19770/26613ee3deeb98ae0726ee9e75f1f129.json\"}, \"mark\": \"bar\", \"encoding\": {\"x\": {\"type\": \"quantitative\", \"aggregate\": \"count\"}, \"y\": {\"type\": \"nominal\", \"field\": {\"repeat\": \"repeat\"}, \"sort\": \"x\", \"title\": \"\"}}, \"height\": 200, \"width\": 80}, \"$schema\": \"https://vega.github.io/schema/vega-lite/v4.8.1.json\"}, {\"mode\": \"vega-lite\"});\n",
       "</script>"
      ],
      "text/plain": [
       "alt.RepeatChart(...)"
      ]
     },
     "execution_count": 11,
     "metadata": {},
     "output_type": "execute_result"
    }
   ],
   "source": [
    "categorical_columns = ['street_side_name','curb','neighbourhood_name','root_barrier']\n",
    "# categorical_columns = trees_df.select_dtypes('object').columns.tolist()\n",
    "(alt.Chart(trees_df)\n",
    " .mark_bar().encode(\n",
    "     alt.X('count()'),\n",
    "     alt.Y(alt.repeat(), type='nominal', sort='x',title=''))\n",
    " .properties(width=80, height=200)\n",
    " .repeat(categorical_columns))"
   ]
  },
  {
   "cell_type": "markdown",
   "metadata": {},
   "source": [
    "We can learn that some distributions are interesting such as how trees were planted in different street sides and neighbourhoods.Now we are going to explore more fun aspects of the data further in the following exploratory visualizaions."
   ]
  },
  {
   "cell_type": "markdown",
   "metadata": {},
   "source": [
    "## Exploratory Visualizations"
   ]
  },
  {
   "cell_type": "markdown",
   "metadata": {},
   "source": [
    "### Question 1: How are trees distributions over the years through different neighbourhoods in Vancouver? "
   ]
  },
  {
   "cell_type": "code",
   "execution_count": 12,
   "metadata": {},
   "outputs": [],
   "source": [
    "trees_df = trees_df.assign(year_planted=(trees_df['date_planted'].dt.year.astype('Int64')))"
   ]
  },
  {
   "cell_type": "code",
   "execution_count": 13,
   "metadata": {},
   "outputs": [
    {
     "name": "stdout",
     "output_type": "stream",
     "text": [
      "<class 'pandas.core.frame.DataFrame'>\n",
      "Int64Index: 2363 entries, 0 to 4998\n",
      "Data columns (total 22 columns):\n",
      " #   Column              Non-Null Count  Dtype         \n",
      "---  ------              --------------  -----         \n",
      " 0   Unnamed: 0          2363 non-null   int64         \n",
      " 1   std_street          2363 non-null   object        \n",
      " 2   on_street           2363 non-null   object        \n",
      " 3   species_name        2363 non-null   object        \n",
      " 4   neighbourhood_name  2363 non-null   object        \n",
      " 5   date_planted        2363 non-null   datetime64[ns]\n",
      " 6   diameter            2363 non-null   float64       \n",
      " 7   street_side_name    2363 non-null   object        \n",
      " 8   genus_name          2363 non-null   object        \n",
      " 9   assigned            2363 non-null   object        \n",
      " 10  civic_number        2363 non-null   int64         \n",
      " 11  plant_area          2328 non-null   object        \n",
      " 12  curb                2363 non-null   object        \n",
      " 13  tree_id             2363 non-null   int64         \n",
      " 14  common_name         2363 non-null   object        \n",
      " 15  height_range_id     2363 non-null   int64         \n",
      " 16  on_street_block     2363 non-null   int64         \n",
      " 17  cultivar_name       1678 non-null   object        \n",
      " 18  root_barrier        2363 non-null   object        \n",
      " 19  latitude            2363 non-null   float64       \n",
      " 20  longitude           2363 non-null   float64       \n",
      " 21  year_planted        2363 non-null   Int64         \n",
      "dtypes: Int64(1), datetime64[ns](1), float64(3), int64(5), object(12)\n",
      "memory usage: 426.9+ KB\n"
     ]
    }
   ],
   "source": [
    "trees_with_date_df = trees_df[trees_df['date_planted'].notna()]   \n",
    "trees_with_date_df.info()"
   ]
  },
  {
   "cell_type": "code",
   "execution_count": 14,
   "metadata": {},
   "outputs": [
    {
     "data": {
      "text/html": [
       "\n",
       "<div id=\"altair-viz-03167685accd48759dac89c49ad8a27d\"></div>\n",
       "<script type=\"text/javascript\">\n",
       "  (function(spec, embedOpt){\n",
       "    let outputDiv = document.currentScript.previousElementSibling;\n",
       "    if (outputDiv.id !== \"altair-viz-03167685accd48759dac89c49ad8a27d\") {\n",
       "      outputDiv = document.getElementById(\"altair-viz-03167685accd48759dac89c49ad8a27d\");\n",
       "    }\n",
       "    const paths = {\n",
       "      \"vega\": \"https://cdn.jsdelivr.net/npm//vega@5?noext\",\n",
       "      \"vega-lib\": \"https://cdn.jsdelivr.net/npm//vega-lib?noext\",\n",
       "      \"vega-lite\": \"https://cdn.jsdelivr.net/npm//vega-lite@4.8.1?noext\",\n",
       "      \"vega-embed\": \"https://cdn.jsdelivr.net/npm//vega-embed@6?noext\",\n",
       "    };\n",
       "\n",
       "    function loadScript(lib) {\n",
       "      return new Promise(function(resolve, reject) {\n",
       "        var s = document.createElement('script');\n",
       "        s.src = paths[lib];\n",
       "        s.async = true;\n",
       "        s.onload = () => resolve(paths[lib]);\n",
       "        s.onerror = () => reject(`Error loading script: ${paths[lib]}`);\n",
       "        document.getElementsByTagName(\"head\")[0].appendChild(s);\n",
       "      });\n",
       "    }\n",
       "\n",
       "    function showError(err) {\n",
       "      outputDiv.innerHTML = `<div class=\"error\" style=\"color:red;\">${err}</div>`;\n",
       "      throw err;\n",
       "    }\n",
       "\n",
       "    function displayChart(vegaEmbed) {\n",
       "      vegaEmbed(outputDiv, spec, embedOpt)\n",
       "        .catch(err => showError(`Javascript Error: ${err.message}<br>This usually means there's a typo in your chart specification. See the javascript console for the full traceback.`));\n",
       "    }\n",
       "\n",
       "    if(typeof define === \"function\" && define.amd) {\n",
       "      requirejs.config({paths});\n",
       "      require([\"vega-embed\"], displayChart, err => showError(`Error loading script: ${err.message}`));\n",
       "    } else if (typeof vegaEmbed === \"function\") {\n",
       "      displayChart(vegaEmbed);\n",
       "    } else {\n",
       "      loadScript(\"vega\")\n",
       "        .then(() => loadScript(\"vega-lite\"))\n",
       "        .then(() => loadScript(\"vega-embed\"))\n",
       "        .catch(showError)\n",
       "        .then(() => displayChart(vegaEmbed));\n",
       "    }\n",
       "  })({\"config\": {\"view\": {\"continuousWidth\": 400, \"continuousHeight\": 300}}, \"data\": {\"url\": \"/jupyter/user/775625/proxy/19770/8642324cb0010ce007685874c19ba5fc.json\"}, \"mark\": \"bar\", \"encoding\": {\"x\": {\"type\": \"quantitative\", \"field\": \"year_planted\"}, \"y\": {\"type\": \"quantitative\", \"aggregate\": \"count\"}}, \"height\": 200, \"width\": 500, \"$schema\": \"https://vega.github.io/schema/vega-lite/v4.8.1.json\"}, {\"mode\": \"vega-lite\"});\n",
       "</script>"
      ],
      "text/plain": [
       "alt.Chart(...)"
      ]
     },
     "execution_count": 14,
     "metadata": {},
     "output_type": "execute_result"
    }
   ],
   "source": [
    "alt.Chart(trees_with_date_df).mark_bar().encode(\n",
    "alt.X('year_planted'),\n",
    "alt.Y('count()')\n",
    ").properties(width=500,height=200)"
   ]
  },
  {
   "cell_type": "markdown",
   "metadata": {},
   "source": [
    "From the above plot,we can easily find that most trees were planted in 1996,2002 and 2013. We are going to find out more about trees planted in different neighbourhood over these years."
   ]
  },
  {
   "cell_type": "code",
   "execution_count": 15,
   "metadata": {},
   "outputs": [
    {
     "data": {
      "text/html": [
       "\n",
       "<div id=\"altair-viz-40cf686d3246499dbcc0c7169f143f73\"></div>\n",
       "<script type=\"text/javascript\">\n",
       "  (function(spec, embedOpt){\n",
       "    let outputDiv = document.currentScript.previousElementSibling;\n",
       "    if (outputDiv.id !== \"altair-viz-40cf686d3246499dbcc0c7169f143f73\") {\n",
       "      outputDiv = document.getElementById(\"altair-viz-40cf686d3246499dbcc0c7169f143f73\");\n",
       "    }\n",
       "    const paths = {\n",
       "      \"vega\": \"https://cdn.jsdelivr.net/npm//vega@5?noext\",\n",
       "      \"vega-lib\": \"https://cdn.jsdelivr.net/npm//vega-lib?noext\",\n",
       "      \"vega-lite\": \"https://cdn.jsdelivr.net/npm//vega-lite@4.8.1?noext\",\n",
       "      \"vega-embed\": \"https://cdn.jsdelivr.net/npm//vega-embed@6?noext\",\n",
       "    };\n",
       "\n",
       "    function loadScript(lib) {\n",
       "      return new Promise(function(resolve, reject) {\n",
       "        var s = document.createElement('script');\n",
       "        s.src = paths[lib];\n",
       "        s.async = true;\n",
       "        s.onload = () => resolve(paths[lib]);\n",
       "        s.onerror = () => reject(`Error loading script: ${paths[lib]}`);\n",
       "        document.getElementsByTagName(\"head\")[0].appendChild(s);\n",
       "      });\n",
       "    }\n",
       "\n",
       "    function showError(err) {\n",
       "      outputDiv.innerHTML = `<div class=\"error\" style=\"color:red;\">${err}</div>`;\n",
       "      throw err;\n",
       "    }\n",
       "\n",
       "    function displayChart(vegaEmbed) {\n",
       "      vegaEmbed(outputDiv, spec, embedOpt)\n",
       "        .catch(err => showError(`Javascript Error: ${err.message}<br>This usually means there's a typo in your chart specification. See the javascript console for the full traceback.`));\n",
       "    }\n",
       "\n",
       "    if(typeof define === \"function\" && define.amd) {\n",
       "      requirejs.config({paths});\n",
       "      require([\"vega-embed\"], displayChart, err => showError(`Error loading script: ${err.message}`));\n",
       "    } else if (typeof vegaEmbed === \"function\") {\n",
       "      displayChart(vegaEmbed);\n",
       "    } else {\n",
       "      loadScript(\"vega\")\n",
       "        .then(() => loadScript(\"vega-lite\"))\n",
       "        .then(() => loadScript(\"vega-embed\"))\n",
       "        .catch(showError)\n",
       "        .then(() => displayChart(vegaEmbed));\n",
       "    }\n",
       "  })({\"config\": {\"view\": {\"continuousWidth\": 400, \"continuousHeight\": 300}}, \"data\": {\"url\": \"/jupyter/user/775625/proxy/19770/8642324cb0010ce007685874c19ba5fc.json\"}, \"mark\": \"rect\", \"encoding\": {\"color\": {\"type\": \"quantitative\", \"aggregate\": \"count\"}, \"x\": {\"type\": \"quantitative\", \"bin\": {\"maxbins\": 25}, \"field\": \"year_planted\"}, \"y\": {\"type\": \"nominal\", \"field\": \"neighbourhood_name\"}}, \"height\": 410, \"width\": 510, \"$schema\": \"https://vega.github.io/schema/vega-lite/v4.8.1.json\"}, {\"mode\": \"vega-lite\"});\n",
       "</script>"
      ],
      "text/plain": [
       "alt.Chart(...)"
      ]
     },
     "execution_count": 15,
     "metadata": {},
     "output_type": "execute_result"
    }
   ],
   "source": [
    "alt.Chart(trees_with_date_df).mark_rect().encode(\n",
    "     alt.X('year_planted',bin=alt.Bin(maxbins=25)),\n",
    "     alt.Y('neighbourhood_name'),\n",
    "     alt.Color('count()')).properties(width=510, height=410)"
   ]
  },
  {
   "cell_type": "markdown",
   "metadata": {},
   "source": [
    "From the above heatmap, we learn that most trees were planted in Hastings-Sunrise,Kensington-Cedar Cottage , Renfres-Collingwood,Sunset and Victoria-Fraserview from 1992 to 2002."
   ]
  },
  {
   "cell_type": "code",
   "execution_count": 16,
   "metadata": {},
   "outputs": [
    {
     "data": {
      "text/html": [
       "\n",
       "<div id=\"altair-viz-567bb6174e95474bbff3ffd65d47be92\"></div>\n",
       "<script type=\"text/javascript\">\n",
       "  (function(spec, embedOpt){\n",
       "    let outputDiv = document.currentScript.previousElementSibling;\n",
       "    if (outputDiv.id !== \"altair-viz-567bb6174e95474bbff3ffd65d47be92\") {\n",
       "      outputDiv = document.getElementById(\"altair-viz-567bb6174e95474bbff3ffd65d47be92\");\n",
       "    }\n",
       "    const paths = {\n",
       "      \"vega\": \"https://cdn.jsdelivr.net/npm//vega@5?noext\",\n",
       "      \"vega-lib\": \"https://cdn.jsdelivr.net/npm//vega-lib?noext\",\n",
       "      \"vega-lite\": \"https://cdn.jsdelivr.net/npm//vega-lite@4.8.1?noext\",\n",
       "      \"vega-embed\": \"https://cdn.jsdelivr.net/npm//vega-embed@6?noext\",\n",
       "    };\n",
       "\n",
       "    function loadScript(lib) {\n",
       "      return new Promise(function(resolve, reject) {\n",
       "        var s = document.createElement('script');\n",
       "        s.src = paths[lib];\n",
       "        s.async = true;\n",
       "        s.onload = () => resolve(paths[lib]);\n",
       "        s.onerror = () => reject(`Error loading script: ${paths[lib]}`);\n",
       "        document.getElementsByTagName(\"head\")[0].appendChild(s);\n",
       "      });\n",
       "    }\n",
       "\n",
       "    function showError(err) {\n",
       "      outputDiv.innerHTML = `<div class=\"error\" style=\"color:red;\">${err}</div>`;\n",
       "      throw err;\n",
       "    }\n",
       "\n",
       "    function displayChart(vegaEmbed) {\n",
       "      vegaEmbed(outputDiv, spec, embedOpt)\n",
       "        .catch(err => showError(`Javascript Error: ${err.message}<br>This usually means there's a typo in your chart specification. See the javascript console for the full traceback.`));\n",
       "    }\n",
       "\n",
       "    if(typeof define === \"function\" && define.amd) {\n",
       "      requirejs.config({paths});\n",
       "      require([\"vega-embed\"], displayChart, err => showError(`Error loading script: ${err.message}`));\n",
       "    } else if (typeof vegaEmbed === \"function\") {\n",
       "      displayChart(vegaEmbed);\n",
       "    } else {\n",
       "      loadScript(\"vega\")\n",
       "        .then(() => loadScript(\"vega-lite\"))\n",
       "        .then(() => loadScript(\"vega-embed\"))\n",
       "        .catch(showError)\n",
       "        .then(() => displayChart(vegaEmbed));\n",
       "    }\n",
       "  })({\"config\": {\"view\": {\"continuousWidth\": 400, \"continuousHeight\": 300}}, \"data\": {\"url\": \"/jupyter/user/775625/proxy/19770/4e1ac6c27e479d1848eadb2dc4b41f2b.json\"}, \"mark\": \"bar\", \"encoding\": {\"x\": {\"type\": \"quantitative\", \"aggregate\": \"count\"}, \"y\": {\"type\": \"nominal\", \"field\": \"neighbourhood_name\", \"sort\": \"x\"}}, \"$schema\": \"https://vega.github.io/schema/vega-lite/v4.8.1.json\"}, {\"mode\": \"vega-lite\"});\n",
       "</script>"
      ],
      "text/plain": [
       "alt.Chart(...)"
      ]
     },
     "execution_count": 16,
     "metadata": {},
     "output_type": "execute_result"
    }
   ],
   "source": [
    "alt.Chart(trees_df).mark_bar().encode(\n",
    "alt.X('count()'),\n",
    "alt.Y('neighbourhood_name',sort='x')\n",
    ")\n",
    "    "
   ]
  },
  {
   "cell_type": "markdown",
   "metadata": {},
   "source": [
    "We find those neighbourhoods which planted most trees from 1992 to 2002 are also the areas with most trees nowadays."
   ]
  },
  {
   "cell_type": "markdown",
   "metadata": {},
   "source": [
    "Besides,we would like to make some observations about the tree heights distributions over the years as a bonus to question 1."
   ]
  },
  {
   "cell_type": "code",
   "execution_count": 17,
   "metadata": {},
   "outputs": [
    {
     "data": {
      "text/html": [
       "\n",
       "<div id=\"altair-viz-1c34965fa7ac45ea8b7805bd3c7b900d\"></div>\n",
       "<script type=\"text/javascript\">\n",
       "  (function(spec, embedOpt){\n",
       "    let outputDiv = document.currentScript.previousElementSibling;\n",
       "    if (outputDiv.id !== \"altair-viz-1c34965fa7ac45ea8b7805bd3c7b900d\") {\n",
       "      outputDiv = document.getElementById(\"altair-viz-1c34965fa7ac45ea8b7805bd3c7b900d\");\n",
       "    }\n",
       "    const paths = {\n",
       "      \"vega\": \"https://cdn.jsdelivr.net/npm//vega@5?noext\",\n",
       "      \"vega-lib\": \"https://cdn.jsdelivr.net/npm//vega-lib?noext\",\n",
       "      \"vega-lite\": \"https://cdn.jsdelivr.net/npm//vega-lite@4.8.1?noext\",\n",
       "      \"vega-embed\": \"https://cdn.jsdelivr.net/npm//vega-embed@6?noext\",\n",
       "    };\n",
       "\n",
       "    function loadScript(lib) {\n",
       "      return new Promise(function(resolve, reject) {\n",
       "        var s = document.createElement('script');\n",
       "        s.src = paths[lib];\n",
       "        s.async = true;\n",
       "        s.onload = () => resolve(paths[lib]);\n",
       "        s.onerror = () => reject(`Error loading script: ${paths[lib]}`);\n",
       "        document.getElementsByTagName(\"head\")[0].appendChild(s);\n",
       "      });\n",
       "    }\n",
       "\n",
       "    function showError(err) {\n",
       "      outputDiv.innerHTML = `<div class=\"error\" style=\"color:red;\">${err}</div>`;\n",
       "      throw err;\n",
       "    }\n",
       "\n",
       "    function displayChart(vegaEmbed) {\n",
       "      vegaEmbed(outputDiv, spec, embedOpt)\n",
       "        .catch(err => showError(`Javascript Error: ${err.message}<br>This usually means there's a typo in your chart specification. See the javascript console for the full traceback.`));\n",
       "    }\n",
       "\n",
       "    if(typeof define === \"function\" && define.amd) {\n",
       "      requirejs.config({paths});\n",
       "      require([\"vega-embed\"], displayChart, err => showError(`Error loading script: ${err.message}`));\n",
       "    } else if (typeof vegaEmbed === \"function\") {\n",
       "      displayChart(vegaEmbed);\n",
       "    } else {\n",
       "      loadScript(\"vega\")\n",
       "        .then(() => loadScript(\"vega-lite\"))\n",
       "        .then(() => loadScript(\"vega-embed\"))\n",
       "        .catch(showError)\n",
       "        .then(() => displayChart(vegaEmbed));\n",
       "    }\n",
       "  })({\"config\": {\"view\": {\"continuousWidth\": 400, \"continuousHeight\": 300}}, \"layer\": [{\"data\": {\"url\": \"/jupyter/user/775625/proxy/19770/8642324cb0010ce007685874c19ba5fc.json\"}, \"mark\": \"line\", \"encoding\": {\"x\": {\"type\": \"quantitative\", \"field\": \"year_planted\"}, \"y\": {\"type\": \"quantitative\", \"aggregate\": \"mean\", \"field\": \"height_range_id\"}}, \"height\": 200, \"width\": 500}, {\"data\": {\"url\": \"/jupyter/user/775625/proxy/19770/4e1ac6c27e479d1848eadb2dc4b41f2b.json\"}, \"mark\": \"point\", \"encoding\": {\"x\": {\"type\": \"quantitative\", \"field\": \"year_planted\"}, \"y\": {\"type\": \"quantitative\", \"aggregate\": \"mean\", \"field\": \"height_range_id\"}}, \"height\": 200, \"width\": 500}], \"$schema\": \"https://vega.github.io/schema/vega-lite/v4.8.1.json\"}, {\"mode\": \"vega-lite\"});\n",
       "</script>"
      ],
      "text/plain": [
       "alt.LayerChart(...)"
      ]
     },
     "execution_count": 17,
     "metadata": {},
     "output_type": "execute_result"
    }
   ],
   "source": [
    "# tree_size = ['height_range_id','diameter']\n",
    "line = alt.Chart(trees_with_date_df).mark_line().encode(\n",
    "alt.X('year_planted'),\n",
    "alt.Y('mean(height_range_id)')  \n",
    ").properties(width=500,height=200)\n",
    "\n",
    "point = alt.Chart(trees_df).mark_point().encode(\n",
    "alt.X('year_planted'),\n",
    "alt.Y('mean(height_range_id)')  \n",
    ").properties(width=500,height=200)\n",
    "\n",
    "line + point"
   ]
  },
  {
   "cell_type": "markdown",
   "metadata": {},
   "source": [
    "As time goes by, we find that trees planted in 1991 are either growing fastest or originally tallest and this is really interesting.We might find more about this in later exploration."
   ]
  },
  {
   "cell_type": "markdown",
   "metadata": {},
   "source": [
    "### Question 2: How do trees differ among street sides in Vancouver?"
   ]
  },
  {
   "cell_type": "markdown",
   "metadata": {},
   "source": [
    "To answer this question, we'll explore the relationship between average tree size and the neighbourhoods."
   ]
  },
  {
   "cell_type": "code",
   "execution_count": 18,
   "metadata": {},
   "outputs": [
    {
     "data": {
      "text/html": [
       "\n",
       "<div id=\"altair-viz-dafa99137b43479580729382a213628c\"></div>\n",
       "<script type=\"text/javascript\">\n",
       "  (function(spec, embedOpt){\n",
       "    let outputDiv = document.currentScript.previousElementSibling;\n",
       "    if (outputDiv.id !== \"altair-viz-dafa99137b43479580729382a213628c\") {\n",
       "      outputDiv = document.getElementById(\"altair-viz-dafa99137b43479580729382a213628c\");\n",
       "    }\n",
       "    const paths = {\n",
       "      \"vega\": \"https://cdn.jsdelivr.net/npm//vega@5?noext\",\n",
       "      \"vega-lib\": \"https://cdn.jsdelivr.net/npm//vega-lib?noext\",\n",
       "      \"vega-lite\": \"https://cdn.jsdelivr.net/npm//vega-lite@4.8.1?noext\",\n",
       "      \"vega-embed\": \"https://cdn.jsdelivr.net/npm//vega-embed@6?noext\",\n",
       "    };\n",
       "\n",
       "    function loadScript(lib) {\n",
       "      return new Promise(function(resolve, reject) {\n",
       "        var s = document.createElement('script');\n",
       "        s.src = paths[lib];\n",
       "        s.async = true;\n",
       "        s.onload = () => resolve(paths[lib]);\n",
       "        s.onerror = () => reject(`Error loading script: ${paths[lib]}`);\n",
       "        document.getElementsByTagName(\"head\")[0].appendChild(s);\n",
       "      });\n",
       "    }\n",
       "\n",
       "    function showError(err) {\n",
       "      outputDiv.innerHTML = `<div class=\"error\" style=\"color:red;\">${err}</div>`;\n",
       "      throw err;\n",
       "    }\n",
       "\n",
       "    function displayChart(vegaEmbed) {\n",
       "      vegaEmbed(outputDiv, spec, embedOpt)\n",
       "        .catch(err => showError(`Javascript Error: ${err.message}<br>This usually means there's a typo in your chart specification. See the javascript console for the full traceback.`));\n",
       "    }\n",
       "\n",
       "    if(typeof define === \"function\" && define.amd) {\n",
       "      requirejs.config({paths});\n",
       "      require([\"vega-embed\"], displayChart, err => showError(`Error loading script: ${err.message}`));\n",
       "    } else if (typeof vegaEmbed === \"function\") {\n",
       "      displayChart(vegaEmbed);\n",
       "    } else {\n",
       "      loadScript(\"vega\")\n",
       "        .then(() => loadScript(\"vega-lite\"))\n",
       "        .then(() => loadScript(\"vega-embed\"))\n",
       "        .catch(showError)\n",
       "        .then(() => displayChart(vegaEmbed));\n",
       "    }\n",
       "  })({\"config\": {\"view\": {\"continuousWidth\": 400, \"continuousHeight\": 300}}, \"data\": {\"url\": \"/jupyter/user/775625/proxy/19770/4e1ac6c27e479d1848eadb2dc4b41f2b.json\"}, \"mark\": \"bar\", \"encoding\": {\"color\": {\"type\": \"nominal\", \"field\": \"street_side_name\"}, \"x\": {\"type\": \"quantitative\", \"aggregate\": \"mean\", \"field\": \"diameter\"}, \"y\": {\"type\": \"nominal\", \"field\": \"street_side_name\"}}, \"height\": 200, \"width\": 500, \"$schema\": \"https://vega.github.io/schema/vega-lite/v4.8.1.json\"}, {\"mode\": \"vega-lite\"});\n",
       "</script>"
      ],
      "text/plain": [
       "alt.Chart(...)"
      ]
     },
     "execution_count": 18,
     "metadata": {},
     "output_type": "execute_result"
    }
   ],
   "source": [
    "alt.Chart(trees_df).mark_bar().encode(\n",
    "alt.X('mean(diameter)'),\n",
    "alt.Y('street_side_name'),\n",
    "alt.Color('street_side_name')\n",
    ").properties(width=500,height=200)"
   ]
  },
  {
   "cell_type": "code",
   "execution_count": 19,
   "metadata": {},
   "outputs": [
    {
     "data": {
      "text/html": [
       "\n",
       "<div id=\"altair-viz-1b2ec70f850b4b38a0c985fbb9457bfa\"></div>\n",
       "<script type=\"text/javascript\">\n",
       "  (function(spec, embedOpt){\n",
       "    let outputDiv = document.currentScript.previousElementSibling;\n",
       "    if (outputDiv.id !== \"altair-viz-1b2ec70f850b4b38a0c985fbb9457bfa\") {\n",
       "      outputDiv = document.getElementById(\"altair-viz-1b2ec70f850b4b38a0c985fbb9457bfa\");\n",
       "    }\n",
       "    const paths = {\n",
       "      \"vega\": \"https://cdn.jsdelivr.net/npm//vega@5?noext\",\n",
       "      \"vega-lib\": \"https://cdn.jsdelivr.net/npm//vega-lib?noext\",\n",
       "      \"vega-lite\": \"https://cdn.jsdelivr.net/npm//vega-lite@4.8.1?noext\",\n",
       "      \"vega-embed\": \"https://cdn.jsdelivr.net/npm//vega-embed@6?noext\",\n",
       "    };\n",
       "\n",
       "    function loadScript(lib) {\n",
       "      return new Promise(function(resolve, reject) {\n",
       "        var s = document.createElement('script');\n",
       "        s.src = paths[lib];\n",
       "        s.async = true;\n",
       "        s.onload = () => resolve(paths[lib]);\n",
       "        s.onerror = () => reject(`Error loading script: ${paths[lib]}`);\n",
       "        document.getElementsByTagName(\"head\")[0].appendChild(s);\n",
       "      });\n",
       "    }\n",
       "\n",
       "    function showError(err) {\n",
       "      outputDiv.innerHTML = `<div class=\"error\" style=\"color:red;\">${err}</div>`;\n",
       "      throw err;\n",
       "    }\n",
       "\n",
       "    function displayChart(vegaEmbed) {\n",
       "      vegaEmbed(outputDiv, spec, embedOpt)\n",
       "        .catch(err => showError(`Javascript Error: ${err.message}<br>This usually means there's a typo in your chart specification. See the javascript console for the full traceback.`));\n",
       "    }\n",
       "\n",
       "    if(typeof define === \"function\" && define.amd) {\n",
       "      requirejs.config({paths});\n",
       "      require([\"vega-embed\"], displayChart, err => showError(`Error loading script: ${err.message}`));\n",
       "    } else if (typeof vegaEmbed === \"function\") {\n",
       "      displayChart(vegaEmbed);\n",
       "    } else {\n",
       "      loadScript(\"vega\")\n",
       "        .then(() => loadScript(\"vega-lite\"))\n",
       "        .then(() => loadScript(\"vega-embed\"))\n",
       "        .catch(showError)\n",
       "        .then(() => displayChart(vegaEmbed));\n",
       "    }\n",
       "  })({\"config\": {\"view\": {\"continuousWidth\": 400, \"continuousHeight\": 300}}, \"data\": {\"url\": \"/jupyter/user/775625/proxy/19770/4e1ac6c27e479d1848eadb2dc4b41f2b.json\"}, \"mark\": \"bar\", \"encoding\": {\"color\": {\"type\": \"nominal\", \"field\": \"street_side_name\"}, \"x\": {\"type\": \"quantitative\", \"aggregate\": \"mean\", \"field\": \"height_range_id\"}, \"y\": {\"type\": \"nominal\", \"field\": \"street_side_name\"}}, \"height\": 200, \"width\": 500, \"$schema\": \"https://vega.github.io/schema/vega-lite/v4.8.1.json\"}, {\"mode\": \"vega-lite\"});\n",
       "</script>"
      ],
      "text/plain": [
       "alt.Chart(...)"
      ]
     },
     "execution_count": 19,
     "metadata": {},
     "output_type": "execute_result"
    }
   ],
   "source": [
    "alt.Chart(trees_df).mark_bar().encode(\n",
    "alt.X('mean(height_range_id)'),\n",
    "alt.Y('street_side_name'),\n",
    "alt.Color('street_side_name')\n",
    ").properties(width=500,height=200)"
   ]
  },
  {
   "cell_type": "markdown",
   "metadata": {},
   "source": [
    "We find that trees planted on both sides of the street are bigger and taller than those planted in the middle of the street. Trees are usually smaller especially in the bike area. It makes sense when we are looking at the trees on the street we usually feel the same way as the above plot shows us."
   ]
  },
  {
   "cell_type": "markdown",
   "metadata": {},
   "source": [
    "### Question 3: Which neighbourhood is surrounded with most big and tall trees in Vancouver? "
   ]
  },
  {
   "cell_type": "markdown",
   "metadata": {},
   "source": [
    "Now we are exploring the most wonderful neighbourhoods where there are most aboundant giant tall trees."
   ]
  },
  {
   "cell_type": "code",
   "execution_count": 20,
   "metadata": {},
   "outputs": [
    {
     "data": {
      "text/html": [
       "\n",
       "<div id=\"altair-viz-0e957b1b8693433ea2ba848d31df1f10\"></div>\n",
       "<script type=\"text/javascript\">\n",
       "  (function(spec, embedOpt){\n",
       "    let outputDiv = document.currentScript.previousElementSibling;\n",
       "    if (outputDiv.id !== \"altair-viz-0e957b1b8693433ea2ba848d31df1f10\") {\n",
       "      outputDiv = document.getElementById(\"altair-viz-0e957b1b8693433ea2ba848d31df1f10\");\n",
       "    }\n",
       "    const paths = {\n",
       "      \"vega\": \"https://cdn.jsdelivr.net/npm//vega@5?noext\",\n",
       "      \"vega-lib\": \"https://cdn.jsdelivr.net/npm//vega-lib?noext\",\n",
       "      \"vega-lite\": \"https://cdn.jsdelivr.net/npm//vega-lite@4.8.1?noext\",\n",
       "      \"vega-embed\": \"https://cdn.jsdelivr.net/npm//vega-embed@6?noext\",\n",
       "    };\n",
       "\n",
       "    function loadScript(lib) {\n",
       "      return new Promise(function(resolve, reject) {\n",
       "        var s = document.createElement('script');\n",
       "        s.src = paths[lib];\n",
       "        s.async = true;\n",
       "        s.onload = () => resolve(paths[lib]);\n",
       "        s.onerror = () => reject(`Error loading script: ${paths[lib]}`);\n",
       "        document.getElementsByTagName(\"head\")[0].appendChild(s);\n",
       "      });\n",
       "    }\n",
       "\n",
       "    function showError(err) {\n",
       "      outputDiv.innerHTML = `<div class=\"error\" style=\"color:red;\">${err}</div>`;\n",
       "      throw err;\n",
       "    }\n",
       "\n",
       "    function displayChart(vegaEmbed) {\n",
       "      vegaEmbed(outputDiv, spec, embedOpt)\n",
       "        .catch(err => showError(`Javascript Error: ${err.message}<br>This usually means there's a typo in your chart specification. See the javascript console for the full traceback.`));\n",
       "    }\n",
       "\n",
       "    if(typeof define === \"function\" && define.amd) {\n",
       "      requirejs.config({paths});\n",
       "      require([\"vega-embed\"], displayChart, err => showError(`Error loading script: ${err.message}`));\n",
       "    } else if (typeof vegaEmbed === \"function\") {\n",
       "      displayChart(vegaEmbed);\n",
       "    } else {\n",
       "      loadScript(\"vega\")\n",
       "        .then(() => loadScript(\"vega-lite\"))\n",
       "        .then(() => loadScript(\"vega-embed\"))\n",
       "        .catch(showError)\n",
       "        .then(() => displayChart(vegaEmbed));\n",
       "    }\n",
       "  })({\"config\": {\"view\": {\"continuousWidth\": 400, \"continuousHeight\": 300}}, \"data\": {\"url\": \"/jupyter/user/775625/proxy/19770/4e1ac6c27e479d1848eadb2dc4b41f2b.json\"}, \"mark\": \"bar\", \"encoding\": {\"x\": {\"type\": \"quantitative\", \"aggregate\": \"mean\", \"field\": \"diameter\"}, \"y\": {\"type\": \"nominal\", \"field\": \"neighbourhood_name\", \"sort\": \"x\"}}, \"height\": 300, \"width\": 600, \"$schema\": \"https://vega.github.io/schema/vega-lite/v4.8.1.json\"}, {\"mode\": \"vega-lite\"});\n",
       "</script>"
      ],
      "text/plain": [
       "alt.Chart(...)"
      ]
     },
     "execution_count": 20,
     "metadata": {},
     "output_type": "execute_result"
    }
   ],
   "source": [
    "alt.Chart(trees_df).mark_bar().encode(\n",
    "alt.X('mean(diameter)'),\n",
    "alt.Y('neighbourhood_name',sort='x')\n",
    ").properties(width=600,height=300)"
   ]
  },
  {
   "cell_type": "code",
   "execution_count": 21,
   "metadata": {},
   "outputs": [
    {
     "data": {
      "text/html": [
       "\n",
       "<div id=\"altair-viz-3ddba4137e0e43788df99ab3da983712\"></div>\n",
       "<script type=\"text/javascript\">\n",
       "  (function(spec, embedOpt){\n",
       "    let outputDiv = document.currentScript.previousElementSibling;\n",
       "    if (outputDiv.id !== \"altair-viz-3ddba4137e0e43788df99ab3da983712\") {\n",
       "      outputDiv = document.getElementById(\"altair-viz-3ddba4137e0e43788df99ab3da983712\");\n",
       "    }\n",
       "    const paths = {\n",
       "      \"vega\": \"https://cdn.jsdelivr.net/npm//vega@5?noext\",\n",
       "      \"vega-lib\": \"https://cdn.jsdelivr.net/npm//vega-lib?noext\",\n",
       "      \"vega-lite\": \"https://cdn.jsdelivr.net/npm//vega-lite@4.8.1?noext\",\n",
       "      \"vega-embed\": \"https://cdn.jsdelivr.net/npm//vega-embed@6?noext\",\n",
       "    };\n",
       "\n",
       "    function loadScript(lib) {\n",
       "      return new Promise(function(resolve, reject) {\n",
       "        var s = document.createElement('script');\n",
       "        s.src = paths[lib];\n",
       "        s.async = true;\n",
       "        s.onload = () => resolve(paths[lib]);\n",
       "        s.onerror = () => reject(`Error loading script: ${paths[lib]}`);\n",
       "        document.getElementsByTagName(\"head\")[0].appendChild(s);\n",
       "      });\n",
       "    }\n",
       "\n",
       "    function showError(err) {\n",
       "      outputDiv.innerHTML = `<div class=\"error\" style=\"color:red;\">${err}</div>`;\n",
       "      throw err;\n",
       "    }\n",
       "\n",
       "    function displayChart(vegaEmbed) {\n",
       "      vegaEmbed(outputDiv, spec, embedOpt)\n",
       "        .catch(err => showError(`Javascript Error: ${err.message}<br>This usually means there's a typo in your chart specification. See the javascript console for the full traceback.`));\n",
       "    }\n",
       "\n",
       "    if(typeof define === \"function\" && define.amd) {\n",
       "      requirejs.config({paths});\n",
       "      require([\"vega-embed\"], displayChart, err => showError(`Error loading script: ${err.message}`));\n",
       "    } else if (typeof vegaEmbed === \"function\") {\n",
       "      displayChart(vegaEmbed);\n",
       "    } else {\n",
       "      loadScript(\"vega\")\n",
       "        .then(() => loadScript(\"vega-lite\"))\n",
       "        .then(() => loadScript(\"vega-embed\"))\n",
       "        .catch(showError)\n",
       "        .then(() => displayChart(vegaEmbed));\n",
       "    }\n",
       "  })({\"config\": {\"view\": {\"continuousWidth\": 400, \"continuousHeight\": 300}}, \"data\": {\"url\": \"/jupyter/user/775625/proxy/19770/4e1ac6c27e479d1848eadb2dc4b41f2b.json\"}, \"mark\": \"bar\", \"encoding\": {\"x\": {\"type\": \"quantitative\", \"aggregate\": \"mean\", \"field\": \"height_range_id\"}, \"y\": {\"type\": \"nominal\", \"field\": \"neighbourhood_name\", \"sort\": \"x\"}}, \"height\": 300, \"width\": 600, \"$schema\": \"https://vega.github.io/schema/vega-lite/v4.8.1.json\"}, {\"mode\": \"vega-lite\"});\n",
       "</script>"
      ],
      "text/plain": [
       "alt.Chart(...)"
      ]
     },
     "execution_count": 21,
     "metadata": {},
     "output_type": "execute_result"
    }
   ],
   "source": [
    "alt.Chart(trees_df).mark_bar().encode(\n",
    "alt.X('mean(height_range_id)'),\n",
    "alt.Y('neighbourhood_name',sort='x')\n",
    ").properties(width=600,height=300)"
   ]
  },
  {
   "cell_type": "markdown",
   "metadata": {},
   "source": [
    "From the above plots we find that Kitsilano, Dunbar,Fairview,Shaughnessy and Kerrisdale are these great neighbourhoods where there are most big and tall trees. It is facinating that these neighbourhoods are all in the Vancouver West area and usually have the highest housing price as well."
   ]
  },
  {
   "cell_type": "markdown",
   "metadata": {},
   "source": [
    "Now let's take a look at how the trees are distributed in these top neighbourhoods by subplots."
   ]
  },
  {
   "cell_type": "code",
   "execution_count": 22,
   "metadata": {},
   "outputs": [
    {
     "data": {
      "text/html": [
       "\n",
       "<div id=\"altair-viz-fd040792feb343c6b8ce671bf4ea5cb2\"></div>\n",
       "<script type=\"text/javascript\">\n",
       "  (function(spec, embedOpt){\n",
       "    let outputDiv = document.currentScript.previousElementSibling;\n",
       "    if (outputDiv.id !== \"altair-viz-fd040792feb343c6b8ce671bf4ea5cb2\") {\n",
       "      outputDiv = document.getElementById(\"altair-viz-fd040792feb343c6b8ce671bf4ea5cb2\");\n",
       "    }\n",
       "    const paths = {\n",
       "      \"vega\": \"https://cdn.jsdelivr.net/npm//vega@5?noext\",\n",
       "      \"vega-lib\": \"https://cdn.jsdelivr.net/npm//vega-lib?noext\",\n",
       "      \"vega-lite\": \"https://cdn.jsdelivr.net/npm//vega-lite@4.8.1?noext\",\n",
       "      \"vega-embed\": \"https://cdn.jsdelivr.net/npm//vega-embed@6?noext\",\n",
       "    };\n",
       "\n",
       "    function loadScript(lib) {\n",
       "      return new Promise(function(resolve, reject) {\n",
       "        var s = document.createElement('script');\n",
       "        s.src = paths[lib];\n",
       "        s.async = true;\n",
       "        s.onload = () => resolve(paths[lib]);\n",
       "        s.onerror = () => reject(`Error loading script: ${paths[lib]}`);\n",
       "        document.getElementsByTagName(\"head\")[0].appendChild(s);\n",
       "      });\n",
       "    }\n",
       "\n",
       "    function showError(err) {\n",
       "      outputDiv.innerHTML = `<div class=\"error\" style=\"color:red;\">${err}</div>`;\n",
       "      throw err;\n",
       "    }\n",
       "\n",
       "    function displayChart(vegaEmbed) {\n",
       "      vegaEmbed(outputDiv, spec, embedOpt)\n",
       "        .catch(err => showError(`Javascript Error: ${err.message}<br>This usually means there's a typo in your chart specification. See the javascript console for the full traceback.`));\n",
       "    }\n",
       "\n",
       "    if(typeof define === \"function\" && define.amd) {\n",
       "      requirejs.config({paths});\n",
       "      require([\"vega-embed\"], displayChart, err => showError(`Error loading script: ${err.message}`));\n",
       "    } else if (typeof vegaEmbed === \"function\") {\n",
       "      displayChart(vegaEmbed);\n",
       "    } else {\n",
       "      loadScript(\"vega\")\n",
       "        .then(() => loadScript(\"vega-lite\"))\n",
       "        .then(() => loadScript(\"vega-embed\"))\n",
       "        .catch(showError)\n",
       "        .then(() => displayChart(vegaEmbed));\n",
       "    }\n",
       "  })({\"config\": {\"view\": {\"continuousWidth\": 400, \"continuousHeight\": 300}}, \"data\": {\"url\": \"/jupyter/user/775625/proxy/19770/755684eb9327cca1419159cf1d161cb9.json\"}, \"facet\": {\"type\": \"nominal\", \"field\": \"neighbourhood_name\"}, \"spec\": {\"mark\": \"bar\", \"encoding\": {\"color\": {\"type\": \"nominal\", \"field\": \"neighbourhood_name\"}, \"x\": {\"type\": \"quantitative\", \"bin\": {\"maxbins\": 30}, \"field\": \"diameter\"}, \"y\": {\"type\": \"quantitative\", \"aggregate\": \"count\"}}, \"height\": 150, \"width\": 200}, \"columns\": 3, \"$schema\": \"https://vega.github.io/schema/vega-lite/v4.8.1.json\"}, {\"mode\": \"vega-lite\"});\n",
       "</script>"
      ],
      "text/plain": [
       "alt.FacetChart(...)"
      ]
     },
     "execution_count": 22,
     "metadata": {},
     "output_type": "execute_result"
    }
   ],
   "source": [
    "top_neighbourhood_trees_df = trees_df[trees_df['neighbourhood_name'].isin(['Kitsilano', 'Dunbar-Southlands','Fairview','Shaughnessy','Kerrisdale'])]\n",
    "\n",
    "\n",
    "alt.Chart(top_neighbourhood_trees_df).mark_bar().encode(\n",
    "    alt.X('diameter', bin=alt.Bin(maxbins=30)),\n",
    "    alt.Y('count()'),\n",
    "    alt.Color('neighbourhood_name')\n",
    ").properties(width=200, height=150\n",
    ").facet('neighbourhood_name',columns=3)\n",
    "\n",
    "\n"
   ]
  },
  {
   "cell_type": "code",
   "execution_count": 23,
   "metadata": {},
   "outputs": [
    {
     "data": {
      "text/html": [
       "\n",
       "<div id=\"altair-viz-65a25d3af5194ea58c13f81c3e2365a6\"></div>\n",
       "<script type=\"text/javascript\">\n",
       "  (function(spec, embedOpt){\n",
       "    let outputDiv = document.currentScript.previousElementSibling;\n",
       "    if (outputDiv.id !== \"altair-viz-65a25d3af5194ea58c13f81c3e2365a6\") {\n",
       "      outputDiv = document.getElementById(\"altair-viz-65a25d3af5194ea58c13f81c3e2365a6\");\n",
       "    }\n",
       "    const paths = {\n",
       "      \"vega\": \"https://cdn.jsdelivr.net/npm//vega@5?noext\",\n",
       "      \"vega-lib\": \"https://cdn.jsdelivr.net/npm//vega-lib?noext\",\n",
       "      \"vega-lite\": \"https://cdn.jsdelivr.net/npm//vega-lite@4.8.1?noext\",\n",
       "      \"vega-embed\": \"https://cdn.jsdelivr.net/npm//vega-embed@6?noext\",\n",
       "    };\n",
       "\n",
       "    function loadScript(lib) {\n",
       "      return new Promise(function(resolve, reject) {\n",
       "        var s = document.createElement('script');\n",
       "        s.src = paths[lib];\n",
       "        s.async = true;\n",
       "        s.onload = () => resolve(paths[lib]);\n",
       "        s.onerror = () => reject(`Error loading script: ${paths[lib]}`);\n",
       "        document.getElementsByTagName(\"head\")[0].appendChild(s);\n",
       "      });\n",
       "    }\n",
       "\n",
       "    function showError(err) {\n",
       "      outputDiv.innerHTML = `<div class=\"error\" style=\"color:red;\">${err}</div>`;\n",
       "      throw err;\n",
       "    }\n",
       "\n",
       "    function displayChart(vegaEmbed) {\n",
       "      vegaEmbed(outputDiv, spec, embedOpt)\n",
       "        .catch(err => showError(`Javascript Error: ${err.message}<br>This usually means there's a typo in your chart specification. See the javascript console for the full traceback.`));\n",
       "    }\n",
       "\n",
       "    if(typeof define === \"function\" && define.amd) {\n",
       "      requirejs.config({paths});\n",
       "      require([\"vega-embed\"], displayChart, err => showError(`Error loading script: ${err.message}`));\n",
       "    } else if (typeof vegaEmbed === \"function\") {\n",
       "      displayChart(vegaEmbed);\n",
       "    } else {\n",
       "      loadScript(\"vega\")\n",
       "        .then(() => loadScript(\"vega-lite\"))\n",
       "        .then(() => loadScript(\"vega-embed\"))\n",
       "        .catch(showError)\n",
       "        .then(() => displayChart(vegaEmbed));\n",
       "    }\n",
       "  })({\"config\": {\"view\": {\"continuousWidth\": 400, \"continuousHeight\": 300}}, \"data\": {\"url\": \"/jupyter/user/775625/proxy/19770/755684eb9327cca1419159cf1d161cb9.json\"}, \"facet\": {\"type\": \"nominal\", \"field\": \"neighbourhood_name\"}, \"spec\": {\"mark\": \"bar\", \"encoding\": {\"color\": {\"type\": \"nominal\", \"field\": \"neighbourhood_name\"}, \"x\": {\"type\": \"quantitative\", \"bin\": {\"maxbins\": 30}, \"field\": \"height_range_id\"}, \"y\": {\"type\": \"quantitative\", \"aggregate\": \"count\"}}, \"height\": 150, \"width\": 200}, \"columns\": 3, \"$schema\": \"https://vega.github.io/schema/vega-lite/v4.8.1.json\"}, {\"mode\": \"vega-lite\"});\n",
       "</script>"
      ],
      "text/plain": [
       "alt.FacetChart(...)"
      ]
     },
     "execution_count": 23,
     "metadata": {},
     "output_type": "execute_result"
    }
   ],
   "source": [
    "alt.Chart(top_neighbourhood_trees_df).mark_bar().encode(\n",
    "    alt.X('height_range_id', bin=alt.Bin(maxbins=30)),\n",
    "    alt.Y('count()'),\n",
    "    alt.Color('neighbourhood_name')\n",
    ").properties(width=200, height=150\n",
    ").facet('neighbourhood_name',columns=3)\n",
    "\n"
   ]
  },
  {
   "cell_type": "markdown",
   "metadata": {},
   "source": [
    "From these subplots Fairview has the most fairly distributed trees of different sizes just like its name \"Fairview\"! What a fun fact! "
   ]
  },
  {
   "cell_type": "markdown",
   "metadata": {},
   "source": [
    "### Question 4:Which range of tree size is most popular in Vancouver? "
   ]
  },
  {
   "cell_type": "code",
   "execution_count": 24,
   "metadata": {},
   "outputs": [
    {
     "data": {
      "text/html": [
       "\n",
       "<div id=\"altair-viz-c584035a2fe14b74a2ac998a980e14ad\"></div>\n",
       "<script type=\"text/javascript\">\n",
       "  (function(spec, embedOpt){\n",
       "    let outputDiv = document.currentScript.previousElementSibling;\n",
       "    if (outputDiv.id !== \"altair-viz-c584035a2fe14b74a2ac998a980e14ad\") {\n",
       "      outputDiv = document.getElementById(\"altair-viz-c584035a2fe14b74a2ac998a980e14ad\");\n",
       "    }\n",
       "    const paths = {\n",
       "      \"vega\": \"https://cdn.jsdelivr.net/npm//vega@5?noext\",\n",
       "      \"vega-lib\": \"https://cdn.jsdelivr.net/npm//vega-lib?noext\",\n",
       "      \"vega-lite\": \"https://cdn.jsdelivr.net/npm//vega-lite@4.8.1?noext\",\n",
       "      \"vega-embed\": \"https://cdn.jsdelivr.net/npm//vega-embed@6?noext\",\n",
       "    };\n",
       "\n",
       "    function loadScript(lib) {\n",
       "      return new Promise(function(resolve, reject) {\n",
       "        var s = document.createElement('script');\n",
       "        s.src = paths[lib];\n",
       "        s.async = true;\n",
       "        s.onload = () => resolve(paths[lib]);\n",
       "        s.onerror = () => reject(`Error loading script: ${paths[lib]}`);\n",
       "        document.getElementsByTagName(\"head\")[0].appendChild(s);\n",
       "      });\n",
       "    }\n",
       "\n",
       "    function showError(err) {\n",
       "      outputDiv.innerHTML = `<div class=\"error\" style=\"color:red;\">${err}</div>`;\n",
       "      throw err;\n",
       "    }\n",
       "\n",
       "    function displayChart(vegaEmbed) {\n",
       "      vegaEmbed(outputDiv, spec, embedOpt)\n",
       "        .catch(err => showError(`Javascript Error: ${err.message}<br>This usually means there's a typo in your chart specification. See the javascript console for the full traceback.`));\n",
       "    }\n",
       "\n",
       "    if(typeof define === \"function\" && define.amd) {\n",
       "      requirejs.config({paths});\n",
       "      require([\"vega-embed\"], displayChart, err => showError(`Error loading script: ${err.message}`));\n",
       "    } else if (typeof vegaEmbed === \"function\") {\n",
       "      displayChart(vegaEmbed);\n",
       "    } else {\n",
       "      loadScript(\"vega\")\n",
       "        .then(() => loadScript(\"vega-lite\"))\n",
       "        .then(() => loadScript(\"vega-embed\"))\n",
       "        .catch(showError)\n",
       "        .then(() => displayChart(vegaEmbed));\n",
       "    }\n",
       "  })({\"config\": {\"view\": {\"continuousWidth\": 400, \"continuousHeight\": 300}}, \"data\": {\"url\": \"/jupyter/user/775625/proxy/19770/4e1ac6c27e479d1848eadb2dc4b41f2b.json\"}, \"mark\": {\"type\": \"circle\", \"size\": 500}, \"encoding\": {\"color\": {\"type\": \"quantitative\", \"aggregate\": \"count\", \"title\": null}, \"size\": {\"type\": \"quantitative\", \"aggregate\": \"count\", \"title\": null}, \"x\": {\"type\": \"quantitative\", \"bin\": {\"maxbins\": 30}, \"field\": \"height_range_id\"}, \"y\": {\"type\": \"quantitative\", \"bin\": {\"maxbins\": 30}, \"field\": \"diameter\"}}, \"height\": 310, \"width\": 510, \"$schema\": \"https://vega.github.io/schema/vega-lite/v4.8.1.json\"}, {\"mode\": \"vega-lite\"});\n",
       "</script>"
      ],
      "text/plain": [
       "alt.Chart(...)"
      ]
     },
     "execution_count": 24,
     "metadata": {},
     "output_type": "execute_result"
    }
   ],
   "source": [
    "alt.Chart(trees_df).mark_circle(size=500).encode(\n",
    "     alt.X('height_range_id', type='quantitative', bin=alt.Bin(maxbins=30)),\n",
    "     alt.Y('diameter', type='quantitative', bin=alt.Bin(maxbins=30)),\n",
    "     alt.Color('count()', title=None),alt.Size('count()',title=None)).properties(width=510, height=310)\n",
    "\n"
   ]
  },
  {
   "cell_type": "markdown",
   "metadata": {},
   "source": [
    "Using both the colour and marker size to indicate the count creates an effective visualization in the above plot.We can easily learn that diameter less that 5 and height range between 1 and 1.5 are the most poluplar size of the trees in Vancouver. The trees with the diameter between 5 and 10 and height range between 2 and 2.5 go to the second place."
   ]
  },
  {
   "cell_type": "markdown",
   "metadata": {},
   "source": [
    "# Conclusion"
   ]
  },
  {
   "cell_type": "markdown",
   "metadata": {},
   "source": [
    "From the above exploratory visualizations,we are going to keep exploring and focus on fun facts about tree distributions in the report. Some of these are inspired by the quick and dirty EDA plots in the introduction part.Some columns of interest are date_planted,neighbourhood_name,diameter,height_range_id and street_side_name. \n",
    "\n",
    "During the exploration of the data, we find some interesting aspects that are more related to people's compelling impressions of the Vacouver city such as prestigious communities with more giant trees VS newly developing communities with more lately planted trees. We also explore some other fun facts like trees distribution could fit its neighbourhood name perfectly like \"Fairview\".\n",
    "\n",
    "Here are basically five key types of graphs as following:"
   ]
  },
  {
   "cell_type": "markdown",
   "metadata": {},
   "source": [
    "1. Heatmap plot\n",
    "\n",
    "From a heatmap plot,we learn that most trees were planted in Hastings-Sunrise,Kensington-Cedar Cottage and other neighbourhoods in the east of Vancouver from 1992 to 2002."
   ]
  },
  {
   "cell_type": "markdown",
   "metadata": {},
   "source": [
    "2. Bar plot\n",
    "\n",
    "Through simple bar plots we can find the contrast distribution aspects among different street sides in Vancouver. \n"
   ]
  },
  {
   "cell_type": "markdown",
   "metadata": {},
   "source": [
    "3. Faceted Histogram subplots\n",
    "\n",
    "First we use simple bar plots to find the top neighbourhoods aboundant with most giant and tall trees.Coincedentally they are all located in the west of Vancouver.Then we use histogram subplots faceted with top neighbourhoods, we find a more fun fact about the trees distribution."
   ]
  },
  {
   "cell_type": "markdown",
   "metadata": {},
   "source": [
    "4. Circle plot with the colour and marker size\n",
    "\n",
    "Using both the colour and marker size to indicate the count creates an effective visualization in the circle plot. It is easy to find out the most popular range of tree size in Vancouver.\n",
    "\n"
   ]
  },
  {
   "cell_type": "markdown",
   "metadata": {},
   "source": [
    "5. Line + point plot\n",
    "\n",
    "Through the first question exploration, we open another door to someting more interesting. Using a line and point plot, we can easily find trees planted in 1991 are either growing fastest or originally tallest because they are the tallest trees nowadays.\n"
   ]
  }
 ],
 "metadata": {
  "kernelspec": {
   "display_name": "Python 3",
   "language": "python",
   "name": "python3"
  },
  "language_info": {
   "codemirror_mode": {
    "name": "ipython",
    "version": 3
   },
   "file_extension": ".py",
   "mimetype": "text/x-python",
   "name": "python",
   "nbconvert_exporter": "python",
   "pygments_lexer": "ipython3",
   "version": "3.8.5"
  }
 },
 "nbformat": 4,
 "nbformat_minor": 4
}
